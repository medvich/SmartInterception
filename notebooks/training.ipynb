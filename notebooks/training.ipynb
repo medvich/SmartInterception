{
 "cells": [
  {
   "cell_type": "code",
   "execution_count": null,
   "id": "57fca358",
   "metadata": {},
   "outputs": [],
   "source": [
    "import os\n",
    "import sys\n",
    "\n",
    "%load_ext autoreload\n",
    "%autoreload 2\n",
    "\n",
    "module_path = os.path.abspath(os.path.join('..'))\n",
    "sys.path.insert(0, module_path)\n",
    "\n",
    "from src import Interception2D\n",
    "from src import make_escape_scenarios, plot_scenarios\n",
    "import numpy as np\n",
    "import os\n",
    "import yaml\n",
    "import matplotlib.pyplot as plt\n",
    "from pathlib import Path\n",
    "from copy import deepcopy\n",
    "\n",
    "BASE_PATH = Path(os.getcwd())\n",
    "for _ in range(len(BASE_PATH.parents) + 1):\n",
    "    if os.path.basename(BASE_PATH) == 'SmartInterception':\n",
    "        break\n",
    "    BASE_PATH = BASE_PATH.parents[0]\n",
    "LOG_PATH = os.path.join(BASE_PATH, 'files', 'logs')\n",
    "\n",
    "os.environ['KMP_DUPLICATE_LIB_OK'] = 'TRUE'\n",
    "\n",
    "import torch\n",
    "torch.cuda.get_device_name()"
   ]
  },
  {
   "cell_type": "code",
   "execution_count": null,
   "id": "d59c5a3f",
   "metadata": {},
   "outputs": [],
   "source": [
    "from stable_baselines3 import DDPG, SAC, TD3\n",
    "from stable_baselines3.common.noise import OrnsteinUhlenbeckActionNoise, NormalActionNoise\n",
    "from stable_baselines3.common.vec_env import DummyVecEnv, VecNormalize, SubprocVecEnv\n",
    "from stable_baselines3.common.env_checker import check_env\n",
    "from stable_baselines3.common.callbacks import BaseCallback"
   ]
  },
  {
   "cell_type": "markdown",
   "id": "b3288e15",
   "metadata": {},
   "source": [
    "### 1. Настройка вывода Tensorboard"
   ]
  },
  {
   "cell_type": "code",
   "execution_count": null,
   "id": "6f1e2b45",
   "metadata": {},
   "outputs": [],
   "source": [
    "class SubprocVecEnvCallback(BaseCallback):\n",
    "\n",
    "    def __init__(self, env, verbose=0):\n",
    "        super().__init__(verbose)\n",
    "        \n",
    "        self.env = env\n",
    "        self.buffer = {}\n",
    "        \n",
    "        n_envs = len(self.env.remotes)\n",
    "        self.relations = np.repeat(0, n_envs)\n",
    "        \n",
    "        for i, _ in enumerate(self.relations):\n",
    "            self.buffer[f'env_{i}'] = {\n",
    "                'positive': 0,\n",
    "                'negative': 0,\n",
    "                'relation': 0\n",
    "            }\n",
    "\n",
    "    def _on_step(self) -> float:\n",
    "        rewards = self.env.get_attr('reward')\n",
    "        for i, value in enumerate(rewards):\n",
    "            if value > 0:\n",
    "                self.buffer[f'env_{i}']['positive'] += 1\n",
    "            elif value < 0:\n",
    "                self.buffer[f'env_{i}']['negative'] += 1\n",
    "            else:\n",
    "                pass\n",
    "            try:\n",
    "                self.buffer[f'env_{i}']['relation'] = self.buffer[f'env_{i}']['positive'] / self.buffer[f'env_{i}']['negative']\n",
    "            except ZeroDivisionError:\n",
    "                self.buffer[f'env_{i}']['relation'] = self.buffer[f'env_{i}']['positive']\n",
    "            self.logger.record(f'reward_relation/env_{i}', self.buffer[f'env_{i}']['relation'])\n",
    "        return True"
   ]
  },
  {
   "cell_type": "markdown",
   "id": "73199dbf",
   "metadata": {},
   "source": [
    "### 2. Сценарии обучения"
   ]
  },
  {
   "cell_type": "code",
   "execution_count": null,
   "id": "d8e7b6d8",
   "metadata": {},
   "outputs": [],
   "source": [
    "scenarios, params = make_escape_scenarios(\n",
    "    n=10, \n",
    "    seed=None, \n",
    "    target_centered=True,\n",
    "    d_min=15000.5,\n",
    "    d_max=40000,\n",
    "    q_min=0,\n",
    "    q_max=50,\n",
    "    eps_min=-20,\n",
    "    eps_max=20\n",
    ")\n",
    "plot_scenarios(scenarios, params)"
   ]
  },
  {
   "cell_type": "markdown",
   "id": "fa2521a9",
   "metadata": {},
   "source": [
    "### 3. Векторизованное окружение"
   ]
  },
  {
   "cell_type": "code",
   "execution_count": null,
   "id": "6832a203",
   "metadata": {},
   "outputs": [],
   "source": [
    "env = Interception2D(agent='target', bounds='bounds.yaml', scenarios=[])\n",
    "nproc = 6\n",
    "\n",
    "def make_env(env, seed):\n",
    "    def _f():\n",
    "        env_ = deepcopy(env)\n",
    "        env_.seed(seed)\n",
    "        return env_\n",
    "    return _f\n",
    "\n",
    "envs = [make_env(env, seed) for seed in range(nproc)]\n",
    "envs = SubprocVecEnv(envs, start_method='spawn')\n",
    "\n",
    "# check_env(envs)"
   ]
  },
  {
   "cell_type": "code",
   "execution_count": null,
   "id": "bc00d758",
   "metadata": {
    "scrolled": true
   },
   "outputs": [],
   "source": [
    "policy_kwargs = dict(activation_fn=torch.nn.ELU,\n",
    "                     net_arch=dict(pi=[64, 64], qf=[64, 64]))\n",
    "\n",
    "model = SAC(\n",
    "    'MlpPolicy', \n",
    "    envs, \n",
    "    verbose=1,  \n",
    "    tensorboard_log=LOG_PATH, \n",
    "    device='cpu',\n",
    "    buffer_size=10_000_000,\n",
    "    learning_starts=30_000,\n",
    "    batch_size=512,\n",
    "    policy_kwargs=policy_kwargs,\n",
    "    tau=0.2,\n",
    "    train_freq=(1000, 'step')\n",
    ")"
   ]
  },
  {
   "cell_type": "code",
   "execution_count": null,
   "id": "9668886e",
   "metadata": {},
   "outputs": [],
   "source": [
    "model.env.set_attr('scenarios', scenarios)"
   ]
  },
  {
   "cell_type": "code",
   "execution_count": null,
   "id": "c8ee149f",
   "metadata": {
    "scrolled": true
   },
   "outputs": [],
   "source": [
    "model.learn(total_timesteps=10_000_000, callback=SubprocVecEnvCallback(model.env))\n",
    "\n",
    "envs.close()"
   ]
  },
  {
   "cell_type": "code",
   "execution_count": null,
   "id": "1c61c19d",
   "metadata": {
    "scrolled": true
   },
   "outputs": [],
   "source": [
    "obs = env.reset()\n",
    "done = False\n",
    "while not done:\n",
    "    action, _states = model.predict(obs)\n",
    "    obs, rewards, done, _ = env.step(action)\n",
    "env.post_render(renderer='notebook')\n",
    "print(env.status)"
   ]
  },
  {
   "cell_type": "markdown",
   "id": "a64aabeb",
   "metadata": {},
   "source": []
  },
  {
   "cell_type": "code",
   "execution_count": null,
   "id": "1d7d295b",
   "metadata": {
    "scrolled": true
   },
   "outputs": [],
   "source": [
    "n_actions = env.action_space.shape[-1]\n",
    "action_noise = NormalActionNoise(mean=np.zeros(n_actions), sigma=0.1*np.ones(n_actions))\n",
    "\n",
    "policy_kwargs = dict(activation_fn=torch.nn.ReLU,\n",
    "                     net_arch=dict(pi=[16, 16, 16], qf=[16, 16, 16]))\n",
    "\n",
    "model = DDPG(\n",
    "    'MlpPolicy', \n",
    "    env, \n",
    "    verbose=4, \n",
    "    action_noise=action_noise, \n",
    "    tensorboard_log=LOG_PATH, \n",
    "    device='cuda',\n",
    "    buffer_size=100_000_000,\n",
    "    learning_starts=30_000,\n",
    "    batch_size=64,\n",
    "    policy_kwargs=policy_kwargs,\n",
    "    tau=0.1\n",
    ")"
   ]
  },
  {
   "cell_type": "code",
   "execution_count": null,
   "id": "1e51f980",
   "metadata": {
    "scrolled": true
   },
   "outputs": [],
   "source": [
    "model.learn(\n",
    "    total_timesteps=1_000_000,\n",
    ")"
   ]
  },
  {
   "cell_type": "code",
   "execution_count": null,
   "id": "4c821ab1",
   "metadata": {},
   "outputs": [],
   "source": [
    "def _make_modelname(name_const):\n",
    "    filename = name_const + '.zip'\n",
    "    i = 1\n",
    "    while os.path.exists(os.path.join(BASE_PATH, 'models', filename)):\n",
    "        filename = name_const + f'_{i}' + '.zip'\n",
    "        i += 1\n",
    "    return os.path.join(BASE_PATH, 'models', filename)\n",
    "\n",
    "model.save(os.path.join(BASE_PATH, 'models', _make_modelname('SAC')))"
   ]
  },
  {
   "cell_type": "code",
   "execution_count": null,
   "id": "a795631c",
   "metadata": {},
   "outputs": [],
   "source": [
    "model = DDPG.load(os.path.join(BASE_PATH, 'models', 'DDPG'), env=env)"
   ]
  },
  {
   "cell_type": "code",
   "execution_count": null,
   "id": "37e87993",
   "metadata": {},
   "outputs": [],
   "source": [
    "print(env.info)"
   ]
  }
 ],
 "metadata": {
  "kernelspec": {
   "display_name": "Python 3 (ipykernel)",
   "language": "python",
   "name": "python3"
  },
  "language_info": {
   "codemirror_mode": {
    "name": "ipython",
    "version": 3
   },
   "file_extension": ".py",
   "mimetype": "text/x-python",
   "name": "python",
   "nbconvert_exporter": "python",
   "pygments_lexer": "ipython3",
   "version": "3.9.12"
  }
 },
 "nbformat": 4,
 "nbformat_minor": 5
}
