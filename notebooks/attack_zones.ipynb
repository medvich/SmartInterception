{
 "cells": [
  {
   "cell_type": "code",
   "execution_count": 4,
   "id": "778585a6",
   "metadata": {},
   "outputs": [
    {
     "name": "stdout",
     "output_type": "stream",
     "text": [
      "The autoreload extension is already loaded. To reload it, use:\n",
      "  %reload_ext autoreload\n"
     ]
    }
   ],
   "source": [
    "%load_ext autoreload\n",
    "%autoreload 2\n",
    "\n",
    "import os\n",
    "import sys\n",
    "\n",
    "module_path = os.path.abspath(os.path.join('..'))\n",
    "sys.path.insert(0, module_path)\n",
    "\n",
    "from src import Interception2D\n",
    "from src.scenarios import make_escape_scenarios, plot_scenarios\n",
    "from src.common import n_degree_curve\n",
    "from pathlib import Path\n",
    "import numpy as np\n",
    "import pandas as pd\n",
    "from joblib import Parallel, delayed, dump, load\n",
    "import matplotlib.pyplot as plt\n",
    "from scipy import interpolate\n",
    "from matplotlib import cm\n",
    "import matplotlib\n",
    "from typing import Union\n",
    "from stable_baselines3 import SAC\n",
    "import plotly.graph_objects as go\n",
    "\n",
    "BASE_PATH = Path(os.getcwd())\n",
    "for _ in range(len(BASE_PATH.parents) + 1):\n",
    "    if os.path.basename(BASE_PATH) == 'SmartInterception':\n",
    "        break\n",
    "    BASE_PATH = BASE_PATH.parents[0]\n",
    "    \n",
    "os.environ['KMP_DUPLICATE_LIB_OK'] = 'TRUE'"
   ]
  },
  {
   "cell_type": "code",
   "execution_count": 2,
   "id": "513ff85f",
   "metadata": {
    "scrolled": false
   },
   "outputs": [],
   "source": [
    "def single_simulation(\n",
    "    d: float, \n",
    "    q: float, \n",
    "    eps: float,\n",
    "    target_action: Union[str, float] = None,\n",
    "    missile_action: Union[str, float] = 'model'\n",
    "):\n",
    "    \n",
    "    scenarios, _ = make_escape_scenarios(\n",
    "        n=1, \n",
    "        seed=1, \n",
    "        target_centered=True,\n",
    "        d_min=d,\n",
    "        d_max=d,\n",
    "        q_min=q,\n",
    "        q_max=q,\n",
    "        eps_min=eps,\n",
    "        eps_max=eps\n",
    "    )\n",
    "    \n",
    "    env = Interception2D(agent='target', bounds='bounds.yaml', scenarios=scenarios)\n",
    "    \n",
    "    if missile_action == 'model':\n",
    "\n",
    "        target_model = SAC.load(os.path.join(BASE_PATH, 'models', 'SAC-T_1'), env=env)\n",
    "        env_ = Interception2D(\n",
    "            agent='both',\n",
    "            bounds='bounds.yaml',\n",
    "            scenarios=[],\n",
    "            model=target_model\n",
    "        )\n",
    "        model = SAC.load(os.path.join(BASE_PATH, 'models', 'SAC-M_2'), env=env_)\n",
    "        \n",
    "        prop = 0\n",
    "        n_hits = 0\n",
    "        \n",
    "        for i in range(20):\n",
    "            obs = env.reset()\n",
    "            done = False\n",
    "            while not done:\n",
    "                action, _states = model.predict(obs)\n",
    "                obs, rewards, done, _ = env.step(action)\n",
    "            if 'hit' in env.status.lower():\n",
    "                n_hits += 1\n",
    "            prop = n_hits / (i + 1)\n",
    "        \n",
    "        return np.array(\n",
    "            [d, q, prop], \n",
    "            dtype=np.float32\n",
    "        )\n",
    "    \n",
    "    if target_action == 'model':\n",
    "        model = SAC.load(os.path.join(BASE_PATH, 'models', 'SAC-T'), env=env, device='cpu')\n",
    "        \n",
    "        prop = 0\n",
    "        n_hits = 0\n",
    "        \n",
    "        for i in range(20):\n",
    "            obs = env.reset()\n",
    "            done = False\n",
    "            while not done:\n",
    "                action, _states = model.predict(obs)\n",
    "                obs, rewards, done, _ = env.step(action)\n",
    "            if 'hit' in env.status.lower():\n",
    "                n_hits += 1\n",
    "            prop = n_hits / (i + 1)\n",
    "        \n",
    "        return np.array(\n",
    "            [d, q, prop], \n",
    "            dtype=np.float32\n",
    "        )\n",
    "            \n",
    "    else:\n",
    "        obs = env.reset()\n",
    "        done = False\n",
    "        while not done:\n",
    "            action = target_action\n",
    "            obs, rewards, done, _ = env.step(action)\n",
    "\n",
    "        hit = True if 'hit' in env.status.lower() else False\n",
    "\n",
    "        eps_term = np.rad2deg(env._obs[7])\n",
    "        eps_term = eps_term if abs(eps_term) < 90 else eps_term - np.copysign(180, eps_term)\n",
    "\n",
    "        return np.array(\n",
    "            [d, q, env.t, env._obs[5] * env.missile.speed_of_sound, eps_term, hit], \n",
    "            dtype=np.float32\n",
    "        )"
   ]
  },
  {
   "cell_type": "markdown",
   "id": "8f5e53fa",
   "metadata": {},
   "source": [
    "***Общие объекты***"
   ]
  },
  {
   "cell_type": "code",
   "execution_count": 8,
   "id": "7edeb9be",
   "metadata": {},
   "outputs": [],
   "source": [
    "PATH_TO_SAVE = os.path.join(BASE_PATH, 'files')"
   ]
  },
  {
   "cell_type": "markdown",
   "id": "331c3b8f",
   "metadata": {},
   "source": [
    "### 1. Цель бездействует"
   ]
  },
  {
   "cell_type": "code",
   "execution_count": 18,
   "id": "7b19f326",
   "metadata": {},
   "outputs": [],
   "source": [
    "distances = np.linspace(5000, 80000, 51)\n",
    "view_angles = np.linspace(0, 180, 19)\n",
    "errors = np.linspace(-40, 40, 5)\n",
    "combinations = []\n",
    "data = {}\n",
    "\n",
    "for d in distances:\n",
    "    for q in view_angles:\n",
    "        combinations.append((d, q))"
   ]
  },
  {
   "cell_type": "code",
   "execution_count": 64,
   "id": "b336b1af",
   "metadata": {
    "scrolled": false
   },
   "outputs": [],
   "source": [
    "FULL_PATH = os.path.join(PATH_TO_SAVE, 'attack_zone_default.pkl')\n",
    "if os.path.exists(FULL_PATH):\n",
    "    data = load(FULL_PATH)\n",
    "else:\n",
    "    for eps in errors:\n",
    "        res = Parallel(n_jobs=-2, verbose=1)(delayed(single_simulation)(combination[0], combination[1], eps, target_action=0) for combination in combinations)\n",
    "        res = np.array(res)\n",
    "        data[eps] = pd.DataFrame(\n",
    "            {\n",
    "                'd': res[:, 0], \n",
    "                'q': res[:, 1],\n",
    "                't': res[:, 2], \n",
    "                'vel_term': res[:, 3],\n",
    "                'eps_term': res[:, 4],\n",
    "                'hit': res[:, 5]\n",
    "            }\n",
    "        )\n",
    "    dump(data, FULL_PATH)\n",
    "    del data"
   ]
  },
  {
   "cell_type": "code",
   "execution_count": 19,
   "id": "78090c8a",
   "metadata": {},
   "outputs": [],
   "source": [
    "FULL_PATH = os.path.join(PATH_TO_SAVE, 'attack_zone_default.pkl')\n",
    "data = load(FULL_PATH)\n",
    "\n",
    "edges = {}\n",
    "for eps in errors:\n",
    "    hit_only = data[eps][data[eps].hit == 1.]\n",
    "    edges[eps] = pd.DataFrame(columns=['theta', 'r'])\n",
    "    for i, q in enumerate(view_angles):\n",
    "        edges[eps].loc[i] = [q, hit_only[hit_only.q == q].d.max()]\n",
    "    for j, q in enumerate(view_angles[1:] + 180.):\n",
    "        edges[eps].loc[i + j + 1] = [q, hit_only[hit_only.q == 360. - q].d.max()]"
   ]
  },
  {
   "cell_type": "code",
   "execution_count": 20,
   "id": "b12fe9e1",
   "metadata": {},
   "outputs": [
    {
     "data": {
      "application/vnd.plotly.v1+json": {
       "config": {
        "plotlyServerURL": "https://plot.ly"
       },
       "data": [
        {
         "line": {
          "width": 3
         },
         "mode": "lines",
         "name": "eps = -40.0 [grad]",
         "r": [
          26000,
          26000,
          26000,
          26000,
          27500,
          29000,
          30500,
          32000,
          35000,
          38000,
          41000,
          44000,
          47000,
          51500,
          57500,
          63500,
          71000,
          80000,
          80000,
          80000,
          71000,
          63500,
          57500,
          51500,
          47000,
          44000,
          41000,
          38000,
          35000,
          32000,
          30500,
          29000,
          27500,
          26000,
          26000,
          26000,
          26000
         ],
         "theta": [
          0,
          10,
          20,
          30,
          40,
          50,
          60,
          70,
          80,
          90,
          100,
          110,
          120,
          130,
          140,
          150,
          160,
          170,
          180,
          190,
          200,
          210,
          220,
          230,
          240,
          250,
          260,
          270,
          280,
          290,
          300,
          310,
          320,
          330,
          340,
          350,
          360
         ],
         "type": "scatterpolar"
        },
        {
         "line": {
          "width": 3
         },
         "mode": "lines",
         "name": "eps = -20.0 [grad]",
         "r": [
          27500,
          27500,
          27500,
          29000,
          29000,
          30500,
          33500,
          35000,
          38000,
          41000,
          44000,
          47000,
          51500,
          56000,
          62000,
          69500,
          78500,
          80000,
          80000,
          80000,
          78500,
          69500,
          62000,
          56000,
          51500,
          47000,
          44000,
          41000,
          38000,
          35000,
          33500,
          30500,
          29000,
          29000,
          27500,
          27500,
          27500
         ],
         "theta": [
          0,
          10,
          20,
          30,
          40,
          50,
          60,
          70,
          80,
          90,
          100,
          110,
          120,
          130,
          140,
          150,
          160,
          170,
          180,
          190,
          200,
          210,
          220,
          230,
          240,
          250,
          260,
          270,
          280,
          290,
          300,
          310,
          320,
          330,
          340,
          350,
          360
         ],
         "type": "scatterpolar"
        },
        {
         "line": {
          "width": 3
         },
         "mode": "lines",
         "name": "eps = 0.0 [grad]",
         "r": [
          29000,
          29000,
          29000,
          30500,
          30500,
          32000,
          35000,
          38000,
          41000,
          42500,
          45500,
          50000,
          53000,
          59000,
          65000,
          74000,
          80000,
          80000,
          80000,
          80000,
          80000,
          74000,
          65000,
          59000,
          53000,
          50000,
          45500,
          42500,
          41000,
          38000,
          35000,
          32000,
          30500,
          30500,
          29000,
          29000,
          29000
         ],
         "theta": [
          0,
          10,
          20,
          30,
          40,
          50,
          60,
          70,
          80,
          90,
          100,
          110,
          120,
          130,
          140,
          150,
          160,
          170,
          180,
          190,
          200,
          210,
          220,
          230,
          240,
          250,
          260,
          270,
          280,
          290,
          300,
          310,
          320,
          330,
          340,
          350,
          360
         ],
         "type": "scatterpolar"
        },
        {
         "line": {
          "width": 3
         },
         "mode": "lines",
         "name": "eps = 20.0 [grad]",
         "r": [
          27500,
          29000,
          29000,
          30500,
          32000,
          33500,
          35000,
          38000,
          41000,
          44000,
          47000,
          50000,
          56000,
          62000,
          69500,
          80000,
          80000,
          80000,
          80000,
          80000,
          80000,
          80000,
          69500,
          62000,
          56000,
          50000,
          47000,
          44000,
          41000,
          38000,
          35000,
          33500,
          32000,
          30500,
          29000,
          29000,
          27500
         ],
         "theta": [
          0,
          10,
          20,
          30,
          40,
          50,
          60,
          70,
          80,
          90,
          100,
          110,
          120,
          130,
          140,
          150,
          160,
          170,
          180,
          190,
          200,
          210,
          220,
          230,
          240,
          250,
          260,
          270,
          280,
          290,
          300,
          310,
          320,
          330,
          340,
          350,
          360
         ],
         "type": "scatterpolar"
        },
        {
         "line": {
          "width": 3
         },
         "mode": "lines",
         "name": "eps = 40.0 [grad]",
         "r": [
          26000,
          27500,
          27500,
          29000,
          30500,
          33500,
          36500,
          38000,
          41000,
          44000,
          47000,
          51500,
          56000,
          63500,
          72500,
          80000,
          80000,
          80000,
          80000,
          80000,
          80000,
          80000,
          72500,
          63500,
          56000,
          51500,
          47000,
          44000,
          41000,
          38000,
          36500,
          33500,
          30500,
          29000,
          27500,
          27500,
          26000
         ],
         "theta": [
          0,
          10,
          20,
          30,
          40,
          50,
          60,
          70,
          80,
          90,
          100,
          110,
          120,
          130,
          140,
          150,
          160,
          170,
          180,
          190,
          200,
          210,
          220,
          230,
          240,
          250,
          260,
          270,
          280,
          290,
          300,
          310,
          320,
          330,
          340,
          350,
          360
         ],
         "type": "scatterpolar"
        },
        {
         "line": {
          "color": "rgb(0, 100, 250)",
          "width": 5
         },
         "mode": "lines",
         "name": "target",
         "r": [
          0,
          15000
         ],
         "showlegend": false,
         "theta": [
          180,
          180
         ],
         "type": "scatterpolar"
        },
        {
         "line": {
          "color": "rgb(0, 100, 250)",
          "width": 5
         },
         "mode": "lines",
         "name": "target",
         "r": [
          15000,
          7000
         ],
         "showlegend": false,
         "theta": [
          180,
          190
         ],
         "type": "scatterpolar"
        },
        {
         "line": {
          "color": "rgb(0, 100, 250)",
          "width": 5
         },
         "mode": "lines",
         "name": "target",
         "r": [
          15000,
          7000
         ],
         "showlegend": false,
         "theta": [
          180,
          170
         ],
         "type": "scatterpolar"
        }
       ],
       "layout": {
        "font": {
         "color": "rgb(0, 0, 0)",
         "family": "Courier New",
         "size": 15
        },
        "paper_bgcolor": "rgb(255, 255, 255)",
        "polar": {
         "radialaxis": {
          "angle": 0,
          "range": [
           0,
           90000
          ],
          "visible": true
         }
        },
        "showlegend": true,
        "template": {
         "data": {
          "bar": [
           {
            "error_x": {
             "color": "#2a3f5f"
            },
            "error_y": {
             "color": "#2a3f5f"
            },
            "marker": {
             "line": {
              "color": "#E5ECF6",
              "width": 0.5
             },
             "pattern": {
              "fillmode": "overlay",
              "size": 10,
              "solidity": 0.2
             }
            },
            "type": "bar"
           }
          ],
          "barpolar": [
           {
            "marker": {
             "line": {
              "color": "#E5ECF6",
              "width": 0.5
             },
             "pattern": {
              "fillmode": "overlay",
              "size": 10,
              "solidity": 0.2
             }
            },
            "type": "barpolar"
           }
          ],
          "carpet": [
           {
            "aaxis": {
             "endlinecolor": "#2a3f5f",
             "gridcolor": "white",
             "linecolor": "white",
             "minorgridcolor": "white",
             "startlinecolor": "#2a3f5f"
            },
            "baxis": {
             "endlinecolor": "#2a3f5f",
             "gridcolor": "white",
             "linecolor": "white",
             "minorgridcolor": "white",
             "startlinecolor": "#2a3f5f"
            },
            "type": "carpet"
           }
          ],
          "choropleth": [
           {
            "colorbar": {
             "outlinewidth": 0,
             "ticks": ""
            },
            "type": "choropleth"
           }
          ],
          "contour": [
           {
            "colorbar": {
             "outlinewidth": 0,
             "ticks": ""
            },
            "colorscale": [
             [
              0,
              "#0d0887"
             ],
             [
              0.1111111111111111,
              "#46039f"
             ],
             [
              0.2222222222222222,
              "#7201a8"
             ],
             [
              0.3333333333333333,
              "#9c179e"
             ],
             [
              0.4444444444444444,
              "#bd3786"
             ],
             [
              0.5555555555555556,
              "#d8576b"
             ],
             [
              0.6666666666666666,
              "#ed7953"
             ],
             [
              0.7777777777777778,
              "#fb9f3a"
             ],
             [
              0.8888888888888888,
              "#fdca26"
             ],
             [
              1,
              "#f0f921"
             ]
            ],
            "type": "contour"
           }
          ],
          "contourcarpet": [
           {
            "colorbar": {
             "outlinewidth": 0,
             "ticks": ""
            },
            "type": "contourcarpet"
           }
          ],
          "heatmap": [
           {
            "colorbar": {
             "outlinewidth": 0,
             "ticks": ""
            },
            "colorscale": [
             [
              0,
              "#0d0887"
             ],
             [
              0.1111111111111111,
              "#46039f"
             ],
             [
              0.2222222222222222,
              "#7201a8"
             ],
             [
              0.3333333333333333,
              "#9c179e"
             ],
             [
              0.4444444444444444,
              "#bd3786"
             ],
             [
              0.5555555555555556,
              "#d8576b"
             ],
             [
              0.6666666666666666,
              "#ed7953"
             ],
             [
              0.7777777777777778,
              "#fb9f3a"
             ],
             [
              0.8888888888888888,
              "#fdca26"
             ],
             [
              1,
              "#f0f921"
             ]
            ],
            "type": "heatmap"
           }
          ],
          "heatmapgl": [
           {
            "colorbar": {
             "outlinewidth": 0,
             "ticks": ""
            },
            "colorscale": [
             [
              0,
              "#0d0887"
             ],
             [
              0.1111111111111111,
              "#46039f"
             ],
             [
              0.2222222222222222,
              "#7201a8"
             ],
             [
              0.3333333333333333,
              "#9c179e"
             ],
             [
              0.4444444444444444,
              "#bd3786"
             ],
             [
              0.5555555555555556,
              "#d8576b"
             ],
             [
              0.6666666666666666,
              "#ed7953"
             ],
             [
              0.7777777777777778,
              "#fb9f3a"
             ],
             [
              0.8888888888888888,
              "#fdca26"
             ],
             [
              1,
              "#f0f921"
             ]
            ],
            "type": "heatmapgl"
           }
          ],
          "histogram": [
           {
            "marker": {
             "pattern": {
              "fillmode": "overlay",
              "size": 10,
              "solidity": 0.2
             }
            },
            "type": "histogram"
           }
          ],
          "histogram2d": [
           {
            "colorbar": {
             "outlinewidth": 0,
             "ticks": ""
            },
            "colorscale": [
             [
              0,
              "#0d0887"
             ],
             [
              0.1111111111111111,
              "#46039f"
             ],
             [
              0.2222222222222222,
              "#7201a8"
             ],
             [
              0.3333333333333333,
              "#9c179e"
             ],
             [
              0.4444444444444444,
              "#bd3786"
             ],
             [
              0.5555555555555556,
              "#d8576b"
             ],
             [
              0.6666666666666666,
              "#ed7953"
             ],
             [
              0.7777777777777778,
              "#fb9f3a"
             ],
             [
              0.8888888888888888,
              "#fdca26"
             ],
             [
              1,
              "#f0f921"
             ]
            ],
            "type": "histogram2d"
           }
          ],
          "histogram2dcontour": [
           {
            "colorbar": {
             "outlinewidth": 0,
             "ticks": ""
            },
            "colorscale": [
             [
              0,
              "#0d0887"
             ],
             [
              0.1111111111111111,
              "#46039f"
             ],
             [
              0.2222222222222222,
              "#7201a8"
             ],
             [
              0.3333333333333333,
              "#9c179e"
             ],
             [
              0.4444444444444444,
              "#bd3786"
             ],
             [
              0.5555555555555556,
              "#d8576b"
             ],
             [
              0.6666666666666666,
              "#ed7953"
             ],
             [
              0.7777777777777778,
              "#fb9f3a"
             ],
             [
              0.8888888888888888,
              "#fdca26"
             ],
             [
              1,
              "#f0f921"
             ]
            ],
            "type": "histogram2dcontour"
           }
          ],
          "mesh3d": [
           {
            "colorbar": {
             "outlinewidth": 0,
             "ticks": ""
            },
            "type": "mesh3d"
           }
          ],
          "parcoords": [
           {
            "line": {
             "colorbar": {
              "outlinewidth": 0,
              "ticks": ""
             }
            },
            "type": "parcoords"
           }
          ],
          "pie": [
           {
            "automargin": true,
            "type": "pie"
           }
          ],
          "scatter": [
           {
            "marker": {
             "colorbar": {
              "outlinewidth": 0,
              "ticks": ""
             }
            },
            "type": "scatter"
           }
          ],
          "scatter3d": [
           {
            "line": {
             "colorbar": {
              "outlinewidth": 0,
              "ticks": ""
             }
            },
            "marker": {
             "colorbar": {
              "outlinewidth": 0,
              "ticks": ""
             }
            },
            "type": "scatter3d"
           }
          ],
          "scattercarpet": [
           {
            "marker": {
             "colorbar": {
              "outlinewidth": 0,
              "ticks": ""
             }
            },
            "type": "scattercarpet"
           }
          ],
          "scattergeo": [
           {
            "marker": {
             "colorbar": {
              "outlinewidth": 0,
              "ticks": ""
             }
            },
            "type": "scattergeo"
           }
          ],
          "scattergl": [
           {
            "marker": {
             "colorbar": {
              "outlinewidth": 0,
              "ticks": ""
             }
            },
            "type": "scattergl"
           }
          ],
          "scattermapbox": [
           {
            "marker": {
             "colorbar": {
              "outlinewidth": 0,
              "ticks": ""
             }
            },
            "type": "scattermapbox"
           }
          ],
          "scatterpolar": [
           {
            "marker": {
             "colorbar": {
              "outlinewidth": 0,
              "ticks": ""
             }
            },
            "type": "scatterpolar"
           }
          ],
          "scatterpolargl": [
           {
            "marker": {
             "colorbar": {
              "outlinewidth": 0,
              "ticks": ""
             }
            },
            "type": "scatterpolargl"
           }
          ],
          "scatterternary": [
           {
            "marker": {
             "colorbar": {
              "outlinewidth": 0,
              "ticks": ""
             }
            },
            "type": "scatterternary"
           }
          ],
          "surface": [
           {
            "colorbar": {
             "outlinewidth": 0,
             "ticks": ""
            },
            "colorscale": [
             [
              0,
              "#0d0887"
             ],
             [
              0.1111111111111111,
              "#46039f"
             ],
             [
              0.2222222222222222,
              "#7201a8"
             ],
             [
              0.3333333333333333,
              "#9c179e"
             ],
             [
              0.4444444444444444,
              "#bd3786"
             ],
             [
              0.5555555555555556,
              "#d8576b"
             ],
             [
              0.6666666666666666,
              "#ed7953"
             ],
             [
              0.7777777777777778,
              "#fb9f3a"
             ],
             [
              0.8888888888888888,
              "#fdca26"
             ],
             [
              1,
              "#f0f921"
             ]
            ],
            "type": "surface"
           }
          ],
          "table": [
           {
            "cells": {
             "fill": {
              "color": "#EBF0F8"
             },
             "line": {
              "color": "white"
             }
            },
            "header": {
             "fill": {
              "color": "#C8D4E3"
             },
             "line": {
              "color": "white"
             }
            },
            "type": "table"
           }
          ]
         },
         "layout": {
          "annotationdefaults": {
           "arrowcolor": "#2a3f5f",
           "arrowhead": 0,
           "arrowwidth": 1
          },
          "autotypenumbers": "strict",
          "coloraxis": {
           "colorbar": {
            "outlinewidth": 0,
            "ticks": ""
           }
          },
          "colorscale": {
           "diverging": [
            [
             0,
             "#8e0152"
            ],
            [
             0.1,
             "#c51b7d"
            ],
            [
             0.2,
             "#de77ae"
            ],
            [
             0.3,
             "#f1b6da"
            ],
            [
             0.4,
             "#fde0ef"
            ],
            [
             0.5,
             "#f7f7f7"
            ],
            [
             0.6,
             "#e6f5d0"
            ],
            [
             0.7,
             "#b8e186"
            ],
            [
             0.8,
             "#7fbc41"
            ],
            [
             0.9,
             "#4d9221"
            ],
            [
             1,
             "#276419"
            ]
           ],
           "sequential": [
            [
             0,
             "#0d0887"
            ],
            [
             0.1111111111111111,
             "#46039f"
            ],
            [
             0.2222222222222222,
             "#7201a8"
            ],
            [
             0.3333333333333333,
             "#9c179e"
            ],
            [
             0.4444444444444444,
             "#bd3786"
            ],
            [
             0.5555555555555556,
             "#d8576b"
            ],
            [
             0.6666666666666666,
             "#ed7953"
            ],
            [
             0.7777777777777778,
             "#fb9f3a"
            ],
            [
             0.8888888888888888,
             "#fdca26"
            ],
            [
             1,
             "#f0f921"
            ]
           ],
           "sequentialminus": [
            [
             0,
             "#0d0887"
            ],
            [
             0.1111111111111111,
             "#46039f"
            ],
            [
             0.2222222222222222,
             "#7201a8"
            ],
            [
             0.3333333333333333,
             "#9c179e"
            ],
            [
             0.4444444444444444,
             "#bd3786"
            ],
            [
             0.5555555555555556,
             "#d8576b"
            ],
            [
             0.6666666666666666,
             "#ed7953"
            ],
            [
             0.7777777777777778,
             "#fb9f3a"
            ],
            [
             0.8888888888888888,
             "#fdca26"
            ],
            [
             1,
             "#f0f921"
            ]
           ]
          },
          "colorway": [
           "#636efa",
           "#EF553B",
           "#00cc96",
           "#ab63fa",
           "#FFA15A",
           "#19d3f3",
           "#FF6692",
           "#B6E880",
           "#FF97FF",
           "#FECB52"
          ],
          "font": {
           "color": "#2a3f5f"
          },
          "geo": {
           "bgcolor": "white",
           "lakecolor": "white",
           "landcolor": "#E5ECF6",
           "showlakes": true,
           "showland": true,
           "subunitcolor": "white"
          },
          "hoverlabel": {
           "align": "left"
          },
          "hovermode": "closest",
          "mapbox": {
           "style": "light"
          },
          "paper_bgcolor": "white",
          "plot_bgcolor": "#E5ECF6",
          "polar": {
           "angularaxis": {
            "gridcolor": "white",
            "linecolor": "white",
            "ticks": ""
           },
           "bgcolor": "#E5ECF6",
           "radialaxis": {
            "gridcolor": "white",
            "linecolor": "white",
            "ticks": ""
           }
          },
          "scene": {
           "xaxis": {
            "backgroundcolor": "#E5ECF6",
            "gridcolor": "white",
            "gridwidth": 2,
            "linecolor": "white",
            "showbackground": true,
            "ticks": "",
            "zerolinecolor": "white"
           },
           "yaxis": {
            "backgroundcolor": "#E5ECF6",
            "gridcolor": "white",
            "gridwidth": 2,
            "linecolor": "white",
            "showbackground": true,
            "ticks": "",
            "zerolinecolor": "white"
           },
           "zaxis": {
            "backgroundcolor": "#E5ECF6",
            "gridcolor": "white",
            "gridwidth": 2,
            "linecolor": "white",
            "showbackground": true,
            "ticks": "",
            "zerolinecolor": "white"
           }
          },
          "shapedefaults": {
           "line": {
            "color": "#2a3f5f"
           }
          },
          "ternary": {
           "aaxis": {
            "gridcolor": "white",
            "linecolor": "white",
            "ticks": ""
           },
           "baxis": {
            "gridcolor": "white",
            "linecolor": "white",
            "ticks": ""
           },
           "bgcolor": "#E5ECF6",
           "caxis": {
            "gridcolor": "white",
            "linecolor": "white",
            "ticks": ""
           }
          },
          "title": {
           "x": 0.05
          },
          "xaxis": {
           "automargin": true,
           "gridcolor": "white",
           "linecolor": "white",
           "ticks": "",
           "title": {
            "standoff": 15
           },
           "zerolinecolor": "white",
           "zerolinewidth": 2
          },
          "yaxis": {
           "automargin": true,
           "gridcolor": "white",
           "linecolor": "white",
           "ticks": "",
           "title": {
            "standoff": 15
           },
           "zerolinecolor": "white",
           "zerolinewidth": 2
          }
         }
        },
        "title": {
         "font": {
          "size": 25
         },
         "text": "Цель бездействует",
         "x": 0.42
        }
       }
      },
      "text/html": [
       "<div>                            <div id=\"242ff9b1-013e-4666-9a7c-b9cf40da0d04\" class=\"plotly-graph-div\" style=\"height:525px; width:100%;\"></div>            <script type=\"text/javascript\">                require([\"plotly\"], function(Plotly) {                    window.PLOTLYENV=window.PLOTLYENV || {};                                    if (document.getElementById(\"242ff9b1-013e-4666-9a7c-b9cf40da0d04\")) {                    Plotly.newPlot(                        \"242ff9b1-013e-4666-9a7c-b9cf40da0d04\",                        [{\"line\":{\"width\":3},\"mode\":\"lines\",\"name\":\"eps = -40.0 [grad]\",\"r\":[26000.0,26000.0,26000.0,26000.0,27500.0,29000.0,30500.0,32000.0,35000.0,38000.0,41000.0,44000.0,47000.0,51500.0,57500.0,63500.0,71000.0,80000.0,80000.0,80000.0,71000.0,63500.0,57500.0,51500.0,47000.0,44000.0,41000.0,38000.0,35000.0,32000.0,30500.0,29000.0,27500.0,26000.0,26000.0,26000.0,26000.0],\"theta\":[0.0,10.0,20.0,30.0,40.0,50.0,60.0,70.0,80.0,90.0,100.0,110.0,120.0,130.0,140.0,150.0,160.0,170.0,180.0,190.0,200.0,210.0,220.0,230.0,240.0,250.0,260.0,270.0,280.0,290.0,300.0,310.0,320.0,330.0,340.0,350.0,360.0],\"type\":\"scatterpolar\"},{\"line\":{\"width\":3},\"mode\":\"lines\",\"name\":\"eps = -20.0 [grad]\",\"r\":[27500.0,27500.0,27500.0,29000.0,29000.0,30500.0,33500.0,35000.0,38000.0,41000.0,44000.0,47000.0,51500.0,56000.0,62000.0,69500.0,78500.0,80000.0,80000.0,80000.0,78500.0,69500.0,62000.0,56000.0,51500.0,47000.0,44000.0,41000.0,38000.0,35000.0,33500.0,30500.0,29000.0,29000.0,27500.0,27500.0,27500.0],\"theta\":[0.0,10.0,20.0,30.0,40.0,50.0,60.0,70.0,80.0,90.0,100.0,110.0,120.0,130.0,140.0,150.0,160.0,170.0,180.0,190.0,200.0,210.0,220.0,230.0,240.0,250.0,260.0,270.0,280.0,290.0,300.0,310.0,320.0,330.0,340.0,350.0,360.0],\"type\":\"scatterpolar\"},{\"line\":{\"width\":3},\"mode\":\"lines\",\"name\":\"eps = 0.0 [grad]\",\"r\":[29000.0,29000.0,29000.0,30500.0,30500.0,32000.0,35000.0,38000.0,41000.0,42500.0,45500.0,50000.0,53000.0,59000.0,65000.0,74000.0,80000.0,80000.0,80000.0,80000.0,80000.0,74000.0,65000.0,59000.0,53000.0,50000.0,45500.0,42500.0,41000.0,38000.0,35000.0,32000.0,30500.0,30500.0,29000.0,29000.0,29000.0],\"theta\":[0.0,10.0,20.0,30.0,40.0,50.0,60.0,70.0,80.0,90.0,100.0,110.0,120.0,130.0,140.0,150.0,160.0,170.0,180.0,190.0,200.0,210.0,220.0,230.0,240.0,250.0,260.0,270.0,280.0,290.0,300.0,310.0,320.0,330.0,340.0,350.0,360.0],\"type\":\"scatterpolar\"},{\"line\":{\"width\":3},\"mode\":\"lines\",\"name\":\"eps = 20.0 [grad]\",\"r\":[27500.0,29000.0,29000.0,30500.0,32000.0,33500.0,35000.0,38000.0,41000.0,44000.0,47000.0,50000.0,56000.0,62000.0,69500.0,80000.0,80000.0,80000.0,80000.0,80000.0,80000.0,80000.0,69500.0,62000.0,56000.0,50000.0,47000.0,44000.0,41000.0,38000.0,35000.0,33500.0,32000.0,30500.0,29000.0,29000.0,27500.0],\"theta\":[0.0,10.0,20.0,30.0,40.0,50.0,60.0,70.0,80.0,90.0,100.0,110.0,120.0,130.0,140.0,150.0,160.0,170.0,180.0,190.0,200.0,210.0,220.0,230.0,240.0,250.0,260.0,270.0,280.0,290.0,300.0,310.0,320.0,330.0,340.0,350.0,360.0],\"type\":\"scatterpolar\"},{\"line\":{\"width\":3},\"mode\":\"lines\",\"name\":\"eps = 40.0 [grad]\",\"r\":[26000.0,27500.0,27500.0,29000.0,30500.0,33500.0,36500.0,38000.0,41000.0,44000.0,47000.0,51500.0,56000.0,63500.0,72500.0,80000.0,80000.0,80000.0,80000.0,80000.0,80000.0,80000.0,72500.0,63500.0,56000.0,51500.0,47000.0,44000.0,41000.0,38000.0,36500.0,33500.0,30500.0,29000.0,27500.0,27500.0,26000.0],\"theta\":[0.0,10.0,20.0,30.0,40.0,50.0,60.0,70.0,80.0,90.0,100.0,110.0,120.0,130.0,140.0,150.0,160.0,170.0,180.0,190.0,200.0,210.0,220.0,230.0,240.0,250.0,260.0,270.0,280.0,290.0,300.0,310.0,320.0,330.0,340.0,350.0,360.0],\"type\":\"scatterpolar\"},{\"line\":{\"color\":\"rgb(0, 100, 250)\",\"width\":5},\"mode\":\"lines\",\"name\":\"target\",\"r\":[0,15000.0],\"showlegend\":false,\"theta\":[180,180],\"type\":\"scatterpolar\"},{\"line\":{\"color\":\"rgb(0, 100, 250)\",\"width\":5},\"mode\":\"lines\",\"name\":\"target\",\"r\":[15000.0,7000.0],\"showlegend\":false,\"theta\":[180,190],\"type\":\"scatterpolar\"},{\"line\":{\"color\":\"rgb(0, 100, 250)\",\"width\":5},\"mode\":\"lines\",\"name\":\"target\",\"r\":[15000.0,7000.0],\"showlegend\":false,\"theta\":[180,170],\"type\":\"scatterpolar\"}],                        {\"font\":{\"color\":\"rgb(0, 0, 0)\",\"family\":\"Courier New\",\"size\":15},\"paper_bgcolor\":\"rgb(255, 255, 255)\",\"polar\":{\"radialaxis\":{\"angle\":0,\"range\":[0,90000.0],\"visible\":true}},\"showlegend\":true,\"title\":{\"font\":{\"size\":25},\"text\":\"\\u0426\\u0435\\u043b\\u044c \\u0431\\u0435\\u0437\\u0434\\u0435\\u0439\\u0441\\u0442\\u0432\\u0443\\u0435\\u0442\",\"x\":0.42},\"template\":{\"data\":{\"bar\":[{\"error_x\":{\"color\":\"#2a3f5f\"},\"error_y\":{\"color\":\"#2a3f5f\"},\"marker\":{\"line\":{\"color\":\"#E5ECF6\",\"width\":0.5},\"pattern\":{\"fillmode\":\"overlay\",\"size\":10,\"solidity\":0.2}},\"type\":\"bar\"}],\"barpolar\":[{\"marker\":{\"line\":{\"color\":\"#E5ECF6\",\"width\":0.5},\"pattern\":{\"fillmode\":\"overlay\",\"size\":10,\"solidity\":0.2}},\"type\":\"barpolar\"}],\"carpet\":[{\"aaxis\":{\"endlinecolor\":\"#2a3f5f\",\"gridcolor\":\"white\",\"linecolor\":\"white\",\"minorgridcolor\":\"white\",\"startlinecolor\":\"#2a3f5f\"},\"baxis\":{\"endlinecolor\":\"#2a3f5f\",\"gridcolor\":\"white\",\"linecolor\":\"white\",\"minorgridcolor\":\"white\",\"startlinecolor\":\"#2a3f5f\"},\"type\":\"carpet\"}],\"choropleth\":[{\"colorbar\":{\"outlinewidth\":0,\"ticks\":\"\"},\"type\":\"choropleth\"}],\"contour\":[{\"colorbar\":{\"outlinewidth\":0,\"ticks\":\"\"},\"colorscale\":[[0.0,\"#0d0887\"],[0.1111111111111111,\"#46039f\"],[0.2222222222222222,\"#7201a8\"],[0.3333333333333333,\"#9c179e\"],[0.4444444444444444,\"#bd3786\"],[0.5555555555555556,\"#d8576b\"],[0.6666666666666666,\"#ed7953\"],[0.7777777777777778,\"#fb9f3a\"],[0.8888888888888888,\"#fdca26\"],[1.0,\"#f0f921\"]],\"type\":\"contour\"}],\"contourcarpet\":[{\"colorbar\":{\"outlinewidth\":0,\"ticks\":\"\"},\"type\":\"contourcarpet\"}],\"heatmap\":[{\"colorbar\":{\"outlinewidth\":0,\"ticks\":\"\"},\"colorscale\":[[0.0,\"#0d0887\"],[0.1111111111111111,\"#46039f\"],[0.2222222222222222,\"#7201a8\"],[0.3333333333333333,\"#9c179e\"],[0.4444444444444444,\"#bd3786\"],[0.5555555555555556,\"#d8576b\"],[0.6666666666666666,\"#ed7953\"],[0.7777777777777778,\"#fb9f3a\"],[0.8888888888888888,\"#fdca26\"],[1.0,\"#f0f921\"]],\"type\":\"heatmap\"}],\"heatmapgl\":[{\"colorbar\":{\"outlinewidth\":0,\"ticks\":\"\"},\"colorscale\":[[0.0,\"#0d0887\"],[0.1111111111111111,\"#46039f\"],[0.2222222222222222,\"#7201a8\"],[0.3333333333333333,\"#9c179e\"],[0.4444444444444444,\"#bd3786\"],[0.5555555555555556,\"#d8576b\"],[0.6666666666666666,\"#ed7953\"],[0.7777777777777778,\"#fb9f3a\"],[0.8888888888888888,\"#fdca26\"],[1.0,\"#f0f921\"]],\"type\":\"heatmapgl\"}],\"histogram\":[{\"marker\":{\"pattern\":{\"fillmode\":\"overlay\",\"size\":10,\"solidity\":0.2}},\"type\":\"histogram\"}],\"histogram2d\":[{\"colorbar\":{\"outlinewidth\":0,\"ticks\":\"\"},\"colorscale\":[[0.0,\"#0d0887\"],[0.1111111111111111,\"#46039f\"],[0.2222222222222222,\"#7201a8\"],[0.3333333333333333,\"#9c179e\"],[0.4444444444444444,\"#bd3786\"],[0.5555555555555556,\"#d8576b\"],[0.6666666666666666,\"#ed7953\"],[0.7777777777777778,\"#fb9f3a\"],[0.8888888888888888,\"#fdca26\"],[1.0,\"#f0f921\"]],\"type\":\"histogram2d\"}],\"histogram2dcontour\":[{\"colorbar\":{\"outlinewidth\":0,\"ticks\":\"\"},\"colorscale\":[[0.0,\"#0d0887\"],[0.1111111111111111,\"#46039f\"],[0.2222222222222222,\"#7201a8\"],[0.3333333333333333,\"#9c179e\"],[0.4444444444444444,\"#bd3786\"],[0.5555555555555556,\"#d8576b\"],[0.6666666666666666,\"#ed7953\"],[0.7777777777777778,\"#fb9f3a\"],[0.8888888888888888,\"#fdca26\"],[1.0,\"#f0f921\"]],\"type\":\"histogram2dcontour\"}],\"mesh3d\":[{\"colorbar\":{\"outlinewidth\":0,\"ticks\":\"\"},\"type\":\"mesh3d\"}],\"parcoords\":[{\"line\":{\"colorbar\":{\"outlinewidth\":0,\"ticks\":\"\"}},\"type\":\"parcoords\"}],\"pie\":[{\"automargin\":true,\"type\":\"pie\"}],\"scatter\":[{\"marker\":{\"colorbar\":{\"outlinewidth\":0,\"ticks\":\"\"}},\"type\":\"scatter\"}],\"scatter3d\":[{\"line\":{\"colorbar\":{\"outlinewidth\":0,\"ticks\":\"\"}},\"marker\":{\"colorbar\":{\"outlinewidth\":0,\"ticks\":\"\"}},\"type\":\"scatter3d\"}],\"scattercarpet\":[{\"marker\":{\"colorbar\":{\"outlinewidth\":0,\"ticks\":\"\"}},\"type\":\"scattercarpet\"}],\"scattergeo\":[{\"marker\":{\"colorbar\":{\"outlinewidth\":0,\"ticks\":\"\"}},\"type\":\"scattergeo\"}],\"scattergl\":[{\"marker\":{\"colorbar\":{\"outlinewidth\":0,\"ticks\":\"\"}},\"type\":\"scattergl\"}],\"scattermapbox\":[{\"marker\":{\"colorbar\":{\"outlinewidth\":0,\"ticks\":\"\"}},\"type\":\"scattermapbox\"}],\"scatterpolar\":[{\"marker\":{\"colorbar\":{\"outlinewidth\":0,\"ticks\":\"\"}},\"type\":\"scatterpolar\"}],\"scatterpolargl\":[{\"marker\":{\"colorbar\":{\"outlinewidth\":0,\"ticks\":\"\"}},\"type\":\"scatterpolargl\"}],\"scatterternary\":[{\"marker\":{\"colorbar\":{\"outlinewidth\":0,\"ticks\":\"\"}},\"type\":\"scatterternary\"}],\"surface\":[{\"colorbar\":{\"outlinewidth\":0,\"ticks\":\"\"},\"colorscale\":[[0.0,\"#0d0887\"],[0.1111111111111111,\"#46039f\"],[0.2222222222222222,\"#7201a8\"],[0.3333333333333333,\"#9c179e\"],[0.4444444444444444,\"#bd3786\"],[0.5555555555555556,\"#d8576b\"],[0.6666666666666666,\"#ed7953\"],[0.7777777777777778,\"#fb9f3a\"],[0.8888888888888888,\"#fdca26\"],[1.0,\"#f0f921\"]],\"type\":\"surface\"}],\"table\":[{\"cells\":{\"fill\":{\"color\":\"#EBF0F8\"},\"line\":{\"color\":\"white\"}},\"header\":{\"fill\":{\"color\":\"#C8D4E3\"},\"line\":{\"color\":\"white\"}},\"type\":\"table\"}]},\"layout\":{\"annotationdefaults\":{\"arrowcolor\":\"#2a3f5f\",\"arrowhead\":0,\"arrowwidth\":1},\"autotypenumbers\":\"strict\",\"coloraxis\":{\"colorbar\":{\"outlinewidth\":0,\"ticks\":\"\"}},\"colorscale\":{\"diverging\":[[0,\"#8e0152\"],[0.1,\"#c51b7d\"],[0.2,\"#de77ae\"],[0.3,\"#f1b6da\"],[0.4,\"#fde0ef\"],[0.5,\"#f7f7f7\"],[0.6,\"#e6f5d0\"],[0.7,\"#b8e186\"],[0.8,\"#7fbc41\"],[0.9,\"#4d9221\"],[1,\"#276419\"]],\"sequential\":[[0.0,\"#0d0887\"],[0.1111111111111111,\"#46039f\"],[0.2222222222222222,\"#7201a8\"],[0.3333333333333333,\"#9c179e\"],[0.4444444444444444,\"#bd3786\"],[0.5555555555555556,\"#d8576b\"],[0.6666666666666666,\"#ed7953\"],[0.7777777777777778,\"#fb9f3a\"],[0.8888888888888888,\"#fdca26\"],[1.0,\"#f0f921\"]],\"sequentialminus\":[[0.0,\"#0d0887\"],[0.1111111111111111,\"#46039f\"],[0.2222222222222222,\"#7201a8\"],[0.3333333333333333,\"#9c179e\"],[0.4444444444444444,\"#bd3786\"],[0.5555555555555556,\"#d8576b\"],[0.6666666666666666,\"#ed7953\"],[0.7777777777777778,\"#fb9f3a\"],[0.8888888888888888,\"#fdca26\"],[1.0,\"#f0f921\"]]},\"colorway\":[\"#636efa\",\"#EF553B\",\"#00cc96\",\"#ab63fa\",\"#FFA15A\",\"#19d3f3\",\"#FF6692\",\"#B6E880\",\"#FF97FF\",\"#FECB52\"],\"font\":{\"color\":\"#2a3f5f\"},\"geo\":{\"bgcolor\":\"white\",\"lakecolor\":\"white\",\"landcolor\":\"#E5ECF6\",\"showlakes\":true,\"showland\":true,\"subunitcolor\":\"white\"},\"hoverlabel\":{\"align\":\"left\"},\"hovermode\":\"closest\",\"mapbox\":{\"style\":\"light\"},\"paper_bgcolor\":\"white\",\"plot_bgcolor\":\"#E5ECF6\",\"polar\":{\"angularaxis\":{\"gridcolor\":\"white\",\"linecolor\":\"white\",\"ticks\":\"\"},\"bgcolor\":\"#E5ECF6\",\"radialaxis\":{\"gridcolor\":\"white\",\"linecolor\":\"white\",\"ticks\":\"\"}},\"scene\":{\"xaxis\":{\"backgroundcolor\":\"#E5ECF6\",\"gridcolor\":\"white\",\"gridwidth\":2,\"linecolor\":\"white\",\"showbackground\":true,\"ticks\":\"\",\"zerolinecolor\":\"white\"},\"yaxis\":{\"backgroundcolor\":\"#E5ECF6\",\"gridcolor\":\"white\",\"gridwidth\":2,\"linecolor\":\"white\",\"showbackground\":true,\"ticks\":\"\",\"zerolinecolor\":\"white\"},\"zaxis\":{\"backgroundcolor\":\"#E5ECF6\",\"gridcolor\":\"white\",\"gridwidth\":2,\"linecolor\":\"white\",\"showbackground\":true,\"ticks\":\"\",\"zerolinecolor\":\"white\"}},\"shapedefaults\":{\"line\":{\"color\":\"#2a3f5f\"}},\"ternary\":{\"aaxis\":{\"gridcolor\":\"white\",\"linecolor\":\"white\",\"ticks\":\"\"},\"baxis\":{\"gridcolor\":\"white\",\"linecolor\":\"white\",\"ticks\":\"\"},\"bgcolor\":\"#E5ECF6\",\"caxis\":{\"gridcolor\":\"white\",\"linecolor\":\"white\",\"ticks\":\"\"}},\"title\":{\"x\":0.05},\"xaxis\":{\"automargin\":true,\"gridcolor\":\"white\",\"linecolor\":\"white\",\"ticks\":\"\",\"title\":{\"standoff\":15},\"zerolinecolor\":\"white\",\"zerolinewidth\":2},\"yaxis\":{\"automargin\":true,\"gridcolor\":\"white\",\"linecolor\":\"white\",\"ticks\":\"\",\"title\":{\"standoff\":15},\"zerolinecolor\":\"white\",\"zerolinewidth\":2}}}},                        {\"responsive\": true}                    ).then(function(){\n",
       "                            \n",
       "var gd = document.getElementById('242ff9b1-013e-4666-9a7c-b9cf40da0d04');\n",
       "var x = new MutationObserver(function (mutations, observer) {{\n",
       "        var display = window.getComputedStyle(gd).display;\n",
       "        if (!display || display === 'none') {{\n",
       "            console.log([gd, 'removed!']);\n",
       "            Plotly.purge(gd);\n",
       "            observer.disconnect();\n",
       "        }}\n",
       "}});\n",
       "\n",
       "// Listen for the removal of the full notebook cells\n",
       "var notebookContainer = gd.closest('#notebook-container');\n",
       "if (notebookContainer) {{\n",
       "    x.observe(notebookContainer, {childList: true});\n",
       "}}\n",
       "\n",
       "// Listen for the clearing of the current output cell\n",
       "var outputEl = gd.closest('.output');\n",
       "if (outputEl) {{\n",
       "    x.observe(outputEl, {childList: true});\n",
       "}}\n",
       "\n",
       "                        })                };                });            </script>        </div>"
      ]
     },
     "metadata": {},
     "output_type": "display_data"
    }
   ],
   "source": [
    "plot_data = [\n",
    "    go.Scatterpolar(\n",
    "        name=f'eps = {eps} [grad]',\n",
    "        r = edge.r,\n",
    "        theta =  edge.theta,\n",
    "#         fill='toself',\n",
    "        mode='lines',\n",
    "        line=dict(width=3)\n",
    "    ) for eps, edge in edges.items()\n",
    "]\n",
    "\n",
    "plot_data.extend(\n",
    "    [\n",
    "        go.Scatterpolar(\n",
    "            name=f'target',\n",
    "            r = [0, 15e3],\n",
    "            theta =  [180, 180],\n",
    "            mode='lines',\n",
    "            showlegend=False,\n",
    "            line=dict(width=5, color='rgb(0, 100, 250)')\n",
    "        ),\n",
    "        go.Scatterpolar(\n",
    "            name=f'target',\n",
    "            r = [15e3, 7e3],\n",
    "            theta =  [180, 180 + 10],\n",
    "            mode='lines',\n",
    "            showlegend=False,\n",
    "            line=dict(width=5, color='rgb(0, 100, 250)')\n",
    "        ),\n",
    "        go.Scatterpolar(\n",
    "            name=f'target',\n",
    "            r = [15e3, 7e3],\n",
    "            theta =  [180, 180 - 10],\n",
    "            mode='lines',\n",
    "            showlegend=False,\n",
    "            line=dict(width=5, color='rgb(0, 100, 250)')\n",
    "        )\n",
    "    ]\n",
    ")\n",
    "\n",
    "\n",
    "layout = go.Layout(\n",
    "    title=dict(\n",
    "        text='Цель бездействует', \n",
    "        x=0.42,\n",
    "        font=dict(size=25)\n",
    "    ),\n",
    "    font=dict(\n",
    "        size=15,\n",
    "        family='Courier New',\n",
    "        color='rgb(0, 0, 0)'\n",
    "    ),\n",
    "    polar=dict(\n",
    "        radialaxis=dict(\n",
    "            visible=True,\n",
    "            range=[0, 90e3],\n",
    "            angle=0\n",
    "        ),\n",
    "#         sector = [0, 180],\n",
    "        angularaxis=dict(\n",
    "        )\n",
    "    ),\n",
    "    paper_bgcolor='rgb(255, 255, 255)',\n",
    "#     polar_bgcolor='rgb(0, 0, 0)',\n",
    "    showlegend=True\n",
    ")\n",
    "\n",
    "\n",
    "fig = go.Figure(\n",
    "    data = plot_data,\n",
    "    layout=layout\n",
    ")\n",
    "\n",
    "fig.show()"
   ]
  },
  {
   "cell_type": "markdown",
   "id": "963087e9",
   "metadata": {},
   "source": [
    "### 2. Цель уходит с постоянной перегрузкой"
   ]
  },
  {
   "cell_type": "code",
   "execution_count": 5,
   "id": "46e95a12",
   "metadata": {},
   "outputs": [],
   "source": [
    "distances = np.linspace(5000, 80000, 51)\n",
    "view_angles = np.linspace(0, 350, 36)\n",
    "errors = np.linspace(-40, 40, 5)\n",
    "combinations = []\n",
    "data = {}\n",
    "\n",
    "for d in distances:\n",
    "    for q in view_angles:\n",
    "        combinations.append((d, q))"
   ]
  },
  {
   "cell_type": "code",
   "execution_count": 171,
   "id": "d8a623a1",
   "metadata": {
    "scrolled": false
   },
   "outputs": [
    {
     "name": "stderr",
     "output_type": "stream",
     "text": [
      "[Parallel(n_jobs=-2)]: Using backend LokyBackend with 7 concurrent workers.\n",
      "[Parallel(n_jobs=-2)]: Done  36 tasks      | elapsed:    4.6s\n",
      "[Parallel(n_jobs=-2)]: Done 186 tasks      | elapsed:    9.2s\n",
      "[Parallel(n_jobs=-2)]: Done 436 tasks      | elapsed:   25.8s\n",
      "[Parallel(n_jobs=-2)]: Done 786 tasks      | elapsed:  1.6min\n",
      "[Parallel(n_jobs=-2)]: Done 1236 tasks      | elapsed:  4.3min\n",
      "[Parallel(n_jobs=-2)]: Done 1786 tasks      | elapsed:  9.8min\n",
      "[Parallel(n_jobs=-2)]: Done 1836 out of 1836 | elapsed: 10.3min finished\n",
      "[Parallel(n_jobs=-2)]: Using backend LokyBackend with 7 concurrent workers.\n",
      "[Parallel(n_jobs=-2)]: Done  36 tasks      | elapsed:    1.6s\n",
      "[Parallel(n_jobs=-2)]: Done 186 tasks      | elapsed:   11.4s\n",
      "[Parallel(n_jobs=-2)]: Done 436 tasks      | elapsed:   38.2s\n",
      "[Parallel(n_jobs=-2)]: Done 786 tasks      | elapsed:  1.7min\n",
      "[Parallel(n_jobs=-2)]: Done 1236 tasks      | elapsed:  4.3min\n",
      "[Parallel(n_jobs=-2)]: Done 1786 tasks      | elapsed:  9.7min\n",
      "[Parallel(n_jobs=-2)]: Done 1836 out of 1836 | elapsed: 10.3min finished\n",
      "[Parallel(n_jobs=-2)]: Using backend LokyBackend with 7 concurrent workers.\n",
      "[Parallel(n_jobs=-2)]: Done  36 tasks      | elapsed:    1.7s\n",
      "[Parallel(n_jobs=-2)]: Done 186 tasks      | elapsed:   11.0s\n",
      "[Parallel(n_jobs=-2)]: Done 436 tasks      | elapsed:   37.1s\n",
      "[Parallel(n_jobs=-2)]: Done 786 tasks      | elapsed:  1.7min\n",
      "[Parallel(n_jobs=-2)]: Done 1236 tasks      | elapsed:  4.3min\n",
      "[Parallel(n_jobs=-2)]: Done 1786 tasks      | elapsed:  9.6min\n",
      "[Parallel(n_jobs=-2)]: Done 1836 out of 1836 | elapsed: 10.1min finished\n",
      "[Parallel(n_jobs=-2)]: Using backend LokyBackend with 7 concurrent workers.\n",
      "[Parallel(n_jobs=-2)]: Done  36 tasks      | elapsed:    1.6s\n",
      "[Parallel(n_jobs=-2)]: Done 186 tasks      | elapsed:   11.2s\n",
      "[Parallel(n_jobs=-2)]: Done 436 tasks      | elapsed:   38.0s\n",
      "[Parallel(n_jobs=-2)]: Done 786 tasks      | elapsed:  1.7min\n",
      "[Parallel(n_jobs=-2)]: Done 1236 tasks      | elapsed:  4.3min\n",
      "[Parallel(n_jobs=-2)]: Done 1786 tasks      | elapsed:  9.7min\n",
      "[Parallel(n_jobs=-2)]: Done 1836 out of 1836 | elapsed: 10.2min finished\n",
      "[Parallel(n_jobs=-2)]: Using backend LokyBackend with 7 concurrent workers.\n",
      "[Parallel(n_jobs=-2)]: Done  76 tasks      | elapsed:    0.7s\n",
      "[Parallel(n_jobs=-2)]: Done 585 tasks      | elapsed:   35.9s\n",
      "[Parallel(n_jobs=-2)]: Done 835 tasks      | elapsed:  1.5min\n",
      "[Parallel(n_jobs=-2)]: Done 1185 tasks      | elapsed:  3.6min\n",
      "[Parallel(n_jobs=-2)]: Done 1635 tasks      | elapsed:  7.9min\n",
      "[Parallel(n_jobs=-2)]: Done 1836 out of 1836 | elapsed: 10.0min finished\n"
     ]
    }
   ],
   "source": [
    "FULL_PATH = os.path.join(PATH_TO_SAVE, 'attack_zone_max_overload.pkl')\n",
    "if os.path.exists(FULL_PATH):\n",
    "    data = load(FULL_PATH)\n",
    "else:\n",
    "    for eps in errors:\n",
    "        res = Parallel(n_jobs=-2, verbose=1)(delayed(single_simulation)(combination[0], combination[1], eps, target_action=0.4) for combination in combinations)\n",
    "        res = np.array(res)\n",
    "        data[eps] = pd.DataFrame(\n",
    "            {\n",
    "                'd': res[:, 0], \n",
    "                'q': res[:, 1],\n",
    "                't': res[:, 2], \n",
    "                'vel_term': res[:, 3],\n",
    "                'eps_term': res[:, 4],\n",
    "                'hit': res[:, 5]\n",
    "            }\n",
    "        )\n",
    "    dump(data, FULL_PATH)\n",
    "    del data"
   ]
  },
  {
   "cell_type": "code",
   "execution_count": 6,
   "id": "f6fc5249",
   "metadata": {},
   "outputs": [],
   "source": [
    "FULL_PATH = os.path.join(PATH_TO_SAVE, 'attack_zone_const_overload_5.pkl')\n",
    "data = load(FULL_PATH)\n",
    "\n",
    "edges = {}\n",
    "for eps in errors:\n",
    "    hit_only = data[eps][data[eps].hit == 1.]\n",
    "    edges[eps] = pd.DataFrame(columns=['theta', 'r'])\n",
    "    for i, q in enumerate(view_angles):\n",
    "        edges[eps].loc[i] = [q, hit_only[hit_only.q == q].d.max()]\n",
    "    edges[eps].loc[i + 1] = edges[eps].iloc[0]"
   ]
  },
  {
   "cell_type": "code",
   "execution_count": 17,
   "id": "ac86bee5",
   "metadata": {},
   "outputs": [
    {
     "data": {
      "application/vnd.plotly.v1+json": {
       "config": {
        "plotlyServerURL": "https://plot.ly"
       },
       "data": [
        {
         "line": {
          "width": 3
         },
         "mode": "lines",
         "name": "eps = -40.0 [grad]",
         "r": [
          54500,
          54500,
          41000,
          41000,
          41000,
          41000,
          42500,
          42500,
          42500,
          42500,
          44000,
          42500,
          42500,
          42500,
          44000,
          45500,
          45500,
          47000,
          48500,
          50000,
          51500,
          51500,
          53000,
          54500,
          54500,
          54500,
          56000,
          56000,
          56000,
          56000,
          56000,
          56000,
          56000,
          54500,
          54500,
          54500,
          54500
         ],
         "theta": [
          0,
          10,
          20,
          30,
          40,
          50,
          60,
          70,
          80,
          90,
          100,
          110,
          120,
          130,
          140,
          150,
          160,
          170,
          180,
          190,
          200,
          210,
          220,
          230,
          240,
          250,
          260,
          270,
          280,
          290,
          300,
          310,
          320,
          330,
          340,
          350,
          0
         ],
         "type": "scatterpolar"
        },
        {
         "line": {
          "width": 3
         },
         "mode": "lines",
         "name": "eps = -20.0 [grad]",
         "r": [
          44000,
          44000,
          44000,
          44000,
          44000,
          44000,
          44000,
          44000,
          44000,
          44000,
          45500,
          44000,
          44000,
          45500,
          45500,
          47000,
          47000,
          48500,
          50000,
          51500,
          53000,
          54500,
          54500,
          56000,
          56000,
          56000,
          57500,
          57500,
          57500,
          57500,
          57500,
          57500,
          57500,
          57500,
          57500,
          57500,
          44000
         ],
         "theta": [
          0,
          10,
          20,
          30,
          40,
          50,
          60,
          70,
          80,
          90,
          100,
          110,
          120,
          130,
          140,
          150,
          160,
          170,
          180,
          190,
          200,
          210,
          220,
          230,
          240,
          250,
          260,
          270,
          280,
          290,
          300,
          310,
          320,
          330,
          340,
          350,
          0
         ],
         "type": "scatterpolar"
        },
        {
         "line": {
          "width": 3
         },
         "mode": "lines",
         "name": "eps = 0.0 [grad]",
         "r": [
          44000,
          44000,
          44000,
          44000,
          44000,
          44000,
          44000,
          44000,
          45500,
          45500,
          44000,
          44000,
          45500,
          45500,
          47000,
          47000,
          48500,
          50000,
          51500,
          51500,
          53000,
          54500,
          56000,
          56000,
          57500,
          57500,
          57500,
          57500,
          57500,
          57500,
          57500,
          57500,
          57500,
          57500,
          57500,
          57500,
          44000
         ],
         "theta": [
          0,
          10,
          20,
          30,
          40,
          50,
          60,
          70,
          80,
          90,
          100,
          110,
          120,
          130,
          140,
          150,
          160,
          170,
          180,
          190,
          200,
          210,
          220,
          230,
          240,
          250,
          260,
          270,
          280,
          290,
          300,
          310,
          320,
          330,
          340,
          350,
          0
         ],
         "type": "scatterpolar"
        },
        {
         "line": {
          "width": 3
         },
         "mode": "lines",
         "name": "eps = 20.0 [grad]",
         "r": [
          57500,
          44000,
          44000,
          44000,
          44000,
          44000,
          44000,
          44000,
          45500,
          45500,
          44000,
          44000,
          45500,
          45500,
          47000,
          47000,
          48500,
          50000,
          50000,
          51500,
          53000,
          54500,
          54500,
          56000,
          56000,
          57500,
          57500,
          57500,
          57500,
          57500,
          57500,
          57500,
          57500,
          57500,
          57500,
          57500,
          57500
         ],
         "theta": [
          0,
          10,
          20,
          30,
          40,
          50,
          60,
          70,
          80,
          90,
          100,
          110,
          120,
          130,
          140,
          150,
          160,
          170,
          180,
          190,
          200,
          210,
          220,
          230,
          240,
          250,
          260,
          270,
          280,
          290,
          300,
          310,
          320,
          330,
          340,
          350,
          0
         ],
         "type": "scatterpolar"
        },
        {
         "line": {
          "width": 3
         },
         "mode": "lines",
         "name": "eps = 40.0 [grad]",
         "r": [
          42500,
          42500,
          42500,
          42500,
          42500,
          44000,
          44000,
          44000,
          44000,
          44000,
          42500,
          42500,
          44000,
          44000,
          45500,
          45500,
          47000,
          48500,
          50000,
          50000,
          51500,
          53000,
          54500,
          54500,
          54500,
          56000,
          56000,
          56000,
          56000,
          56000,
          56000,
          56000,
          56000,
          56000,
          56000,
          42500,
          42500
         ],
         "theta": [
          0,
          10,
          20,
          30,
          40,
          50,
          60,
          70,
          80,
          90,
          100,
          110,
          120,
          130,
          140,
          150,
          160,
          170,
          180,
          190,
          200,
          210,
          220,
          230,
          240,
          250,
          260,
          270,
          280,
          290,
          300,
          310,
          320,
          330,
          340,
          350,
          0
         ],
         "type": "scatterpolar"
        },
        {
         "line": {
          "color": "rgb(0, 100, 250)",
          "width": 4
         },
         "mode": "lines",
         "name": "target",
         "r": [
          1.83697019872103e-12,
          2604.722665003957,
          5130.30214988503,
          7500.000000000002,
          9641.814145298089,
          11490.666646784668,
          12990.381056766577,
          14095.389311788627,
          14772.116295183121,
          15000
         ],
         "showlegend": false,
         "theta": [
          180,
          190,
          200,
          210,
          220,
          230,
          240,
          250,
          260,
          270
         ],
         "type": "scatterpolar"
        },
        {
         "line": {
          "color": "rgb(0, 100, 250)",
          "width": 4
         },
         "mode": "lines",
         "name": "target",
         "r": [
          15000,
          16988.550760335587
         ],
         "showlegend": false,
         "theta": [
          270,
          298
         ],
         "type": "scatterpolar"
        },
        {
         "line": {
          "color": "rgb(0, 100, 250)",
          "width": 4
         },
         "mode": "lines",
         "name": "target",
         "r": [
          16988.550760335587,
          16500
         ],
         "showlegend": false,
         "theta": [
          298,
          270
         ],
         "type": "scatterpolar"
        },
        {
         "line": {
          "color": "rgb(0, 100, 250)",
          "width": 4
         },
         "mode": "lines",
         "name": "target",
         "r": [
          16988.550760335587,
          13500
         ],
         "showlegend": false,
         "theta": [
          298,
          270
         ],
         "type": "scatterpolar"
        }
       ],
       "layout": {
        "font": {
         "color": "rgb(0, 0, 0)",
         "family": "Courier New",
         "size": 15
        },
        "paper_bgcolor": "rgb(255, 255, 255)",
        "polar": {
         "radialaxis": {
          "angle": 0,
          "range": [
           0,
           90000
          ],
          "visible": true
         },
         "sector": [
          0,
          360
         ]
        },
        "showlegend": true,
        "template": {
         "data": {
          "bar": [
           {
            "error_x": {
             "color": "#2a3f5f"
            },
            "error_y": {
             "color": "#2a3f5f"
            },
            "marker": {
             "line": {
              "color": "#E5ECF6",
              "width": 0.5
             },
             "pattern": {
              "fillmode": "overlay",
              "size": 10,
              "solidity": 0.2
             }
            },
            "type": "bar"
           }
          ],
          "barpolar": [
           {
            "marker": {
             "line": {
              "color": "#E5ECF6",
              "width": 0.5
             },
             "pattern": {
              "fillmode": "overlay",
              "size": 10,
              "solidity": 0.2
             }
            },
            "type": "barpolar"
           }
          ],
          "carpet": [
           {
            "aaxis": {
             "endlinecolor": "#2a3f5f",
             "gridcolor": "white",
             "linecolor": "white",
             "minorgridcolor": "white",
             "startlinecolor": "#2a3f5f"
            },
            "baxis": {
             "endlinecolor": "#2a3f5f",
             "gridcolor": "white",
             "linecolor": "white",
             "minorgridcolor": "white",
             "startlinecolor": "#2a3f5f"
            },
            "type": "carpet"
           }
          ],
          "choropleth": [
           {
            "colorbar": {
             "outlinewidth": 0,
             "ticks": ""
            },
            "type": "choropleth"
           }
          ],
          "contour": [
           {
            "colorbar": {
             "outlinewidth": 0,
             "ticks": ""
            },
            "colorscale": [
             [
              0,
              "#0d0887"
             ],
             [
              0.1111111111111111,
              "#46039f"
             ],
             [
              0.2222222222222222,
              "#7201a8"
             ],
             [
              0.3333333333333333,
              "#9c179e"
             ],
             [
              0.4444444444444444,
              "#bd3786"
             ],
             [
              0.5555555555555556,
              "#d8576b"
             ],
             [
              0.6666666666666666,
              "#ed7953"
             ],
             [
              0.7777777777777778,
              "#fb9f3a"
             ],
             [
              0.8888888888888888,
              "#fdca26"
             ],
             [
              1,
              "#f0f921"
             ]
            ],
            "type": "contour"
           }
          ],
          "contourcarpet": [
           {
            "colorbar": {
             "outlinewidth": 0,
             "ticks": ""
            },
            "type": "contourcarpet"
           }
          ],
          "heatmap": [
           {
            "colorbar": {
             "outlinewidth": 0,
             "ticks": ""
            },
            "colorscale": [
             [
              0,
              "#0d0887"
             ],
             [
              0.1111111111111111,
              "#46039f"
             ],
             [
              0.2222222222222222,
              "#7201a8"
             ],
             [
              0.3333333333333333,
              "#9c179e"
             ],
             [
              0.4444444444444444,
              "#bd3786"
             ],
             [
              0.5555555555555556,
              "#d8576b"
             ],
             [
              0.6666666666666666,
              "#ed7953"
             ],
             [
              0.7777777777777778,
              "#fb9f3a"
             ],
             [
              0.8888888888888888,
              "#fdca26"
             ],
             [
              1,
              "#f0f921"
             ]
            ],
            "type": "heatmap"
           }
          ],
          "heatmapgl": [
           {
            "colorbar": {
             "outlinewidth": 0,
             "ticks": ""
            },
            "colorscale": [
             [
              0,
              "#0d0887"
             ],
             [
              0.1111111111111111,
              "#46039f"
             ],
             [
              0.2222222222222222,
              "#7201a8"
             ],
             [
              0.3333333333333333,
              "#9c179e"
             ],
             [
              0.4444444444444444,
              "#bd3786"
             ],
             [
              0.5555555555555556,
              "#d8576b"
             ],
             [
              0.6666666666666666,
              "#ed7953"
             ],
             [
              0.7777777777777778,
              "#fb9f3a"
             ],
             [
              0.8888888888888888,
              "#fdca26"
             ],
             [
              1,
              "#f0f921"
             ]
            ],
            "type": "heatmapgl"
           }
          ],
          "histogram": [
           {
            "marker": {
             "pattern": {
              "fillmode": "overlay",
              "size": 10,
              "solidity": 0.2
             }
            },
            "type": "histogram"
           }
          ],
          "histogram2d": [
           {
            "colorbar": {
             "outlinewidth": 0,
             "ticks": ""
            },
            "colorscale": [
             [
              0,
              "#0d0887"
             ],
             [
              0.1111111111111111,
              "#46039f"
             ],
             [
              0.2222222222222222,
              "#7201a8"
             ],
             [
              0.3333333333333333,
              "#9c179e"
             ],
             [
              0.4444444444444444,
              "#bd3786"
             ],
             [
              0.5555555555555556,
              "#d8576b"
             ],
             [
              0.6666666666666666,
              "#ed7953"
             ],
             [
              0.7777777777777778,
              "#fb9f3a"
             ],
             [
              0.8888888888888888,
              "#fdca26"
             ],
             [
              1,
              "#f0f921"
             ]
            ],
            "type": "histogram2d"
           }
          ],
          "histogram2dcontour": [
           {
            "colorbar": {
             "outlinewidth": 0,
             "ticks": ""
            },
            "colorscale": [
             [
              0,
              "#0d0887"
             ],
             [
              0.1111111111111111,
              "#46039f"
             ],
             [
              0.2222222222222222,
              "#7201a8"
             ],
             [
              0.3333333333333333,
              "#9c179e"
             ],
             [
              0.4444444444444444,
              "#bd3786"
             ],
             [
              0.5555555555555556,
              "#d8576b"
             ],
             [
              0.6666666666666666,
              "#ed7953"
             ],
             [
              0.7777777777777778,
              "#fb9f3a"
             ],
             [
              0.8888888888888888,
              "#fdca26"
             ],
             [
              1,
              "#f0f921"
             ]
            ],
            "type": "histogram2dcontour"
           }
          ],
          "mesh3d": [
           {
            "colorbar": {
             "outlinewidth": 0,
             "ticks": ""
            },
            "type": "mesh3d"
           }
          ],
          "parcoords": [
           {
            "line": {
             "colorbar": {
              "outlinewidth": 0,
              "ticks": ""
             }
            },
            "type": "parcoords"
           }
          ],
          "pie": [
           {
            "automargin": true,
            "type": "pie"
           }
          ],
          "scatter": [
           {
            "marker": {
             "colorbar": {
              "outlinewidth": 0,
              "ticks": ""
             }
            },
            "type": "scatter"
           }
          ],
          "scatter3d": [
           {
            "line": {
             "colorbar": {
              "outlinewidth": 0,
              "ticks": ""
             }
            },
            "marker": {
             "colorbar": {
              "outlinewidth": 0,
              "ticks": ""
             }
            },
            "type": "scatter3d"
           }
          ],
          "scattercarpet": [
           {
            "marker": {
             "colorbar": {
              "outlinewidth": 0,
              "ticks": ""
             }
            },
            "type": "scattercarpet"
           }
          ],
          "scattergeo": [
           {
            "marker": {
             "colorbar": {
              "outlinewidth": 0,
              "ticks": ""
             }
            },
            "type": "scattergeo"
           }
          ],
          "scattergl": [
           {
            "marker": {
             "colorbar": {
              "outlinewidth": 0,
              "ticks": ""
             }
            },
            "type": "scattergl"
           }
          ],
          "scattermapbox": [
           {
            "marker": {
             "colorbar": {
              "outlinewidth": 0,
              "ticks": ""
             }
            },
            "type": "scattermapbox"
           }
          ],
          "scatterpolar": [
           {
            "marker": {
             "colorbar": {
              "outlinewidth": 0,
              "ticks": ""
             }
            },
            "type": "scatterpolar"
           }
          ],
          "scatterpolargl": [
           {
            "marker": {
             "colorbar": {
              "outlinewidth": 0,
              "ticks": ""
             }
            },
            "type": "scatterpolargl"
           }
          ],
          "scatterternary": [
           {
            "marker": {
             "colorbar": {
              "outlinewidth": 0,
              "ticks": ""
             }
            },
            "type": "scatterternary"
           }
          ],
          "surface": [
           {
            "colorbar": {
             "outlinewidth": 0,
             "ticks": ""
            },
            "colorscale": [
             [
              0,
              "#0d0887"
             ],
             [
              0.1111111111111111,
              "#46039f"
             ],
             [
              0.2222222222222222,
              "#7201a8"
             ],
             [
              0.3333333333333333,
              "#9c179e"
             ],
             [
              0.4444444444444444,
              "#bd3786"
             ],
             [
              0.5555555555555556,
              "#d8576b"
             ],
             [
              0.6666666666666666,
              "#ed7953"
             ],
             [
              0.7777777777777778,
              "#fb9f3a"
             ],
             [
              0.8888888888888888,
              "#fdca26"
             ],
             [
              1,
              "#f0f921"
             ]
            ],
            "type": "surface"
           }
          ],
          "table": [
           {
            "cells": {
             "fill": {
              "color": "#EBF0F8"
             },
             "line": {
              "color": "white"
             }
            },
            "header": {
             "fill": {
              "color": "#C8D4E3"
             },
             "line": {
              "color": "white"
             }
            },
            "type": "table"
           }
          ]
         },
         "layout": {
          "annotationdefaults": {
           "arrowcolor": "#2a3f5f",
           "arrowhead": 0,
           "arrowwidth": 1
          },
          "autotypenumbers": "strict",
          "coloraxis": {
           "colorbar": {
            "outlinewidth": 0,
            "ticks": ""
           }
          },
          "colorscale": {
           "diverging": [
            [
             0,
             "#8e0152"
            ],
            [
             0.1,
             "#c51b7d"
            ],
            [
             0.2,
             "#de77ae"
            ],
            [
             0.3,
             "#f1b6da"
            ],
            [
             0.4,
             "#fde0ef"
            ],
            [
             0.5,
             "#f7f7f7"
            ],
            [
             0.6,
             "#e6f5d0"
            ],
            [
             0.7,
             "#b8e186"
            ],
            [
             0.8,
             "#7fbc41"
            ],
            [
             0.9,
             "#4d9221"
            ],
            [
             1,
             "#276419"
            ]
           ],
           "sequential": [
            [
             0,
             "#0d0887"
            ],
            [
             0.1111111111111111,
             "#46039f"
            ],
            [
             0.2222222222222222,
             "#7201a8"
            ],
            [
             0.3333333333333333,
             "#9c179e"
            ],
            [
             0.4444444444444444,
             "#bd3786"
            ],
            [
             0.5555555555555556,
             "#d8576b"
            ],
            [
             0.6666666666666666,
             "#ed7953"
            ],
            [
             0.7777777777777778,
             "#fb9f3a"
            ],
            [
             0.8888888888888888,
             "#fdca26"
            ],
            [
             1,
             "#f0f921"
            ]
           ],
           "sequentialminus": [
            [
             0,
             "#0d0887"
            ],
            [
             0.1111111111111111,
             "#46039f"
            ],
            [
             0.2222222222222222,
             "#7201a8"
            ],
            [
             0.3333333333333333,
             "#9c179e"
            ],
            [
             0.4444444444444444,
             "#bd3786"
            ],
            [
             0.5555555555555556,
             "#d8576b"
            ],
            [
             0.6666666666666666,
             "#ed7953"
            ],
            [
             0.7777777777777778,
             "#fb9f3a"
            ],
            [
             0.8888888888888888,
             "#fdca26"
            ],
            [
             1,
             "#f0f921"
            ]
           ]
          },
          "colorway": [
           "#636efa",
           "#EF553B",
           "#00cc96",
           "#ab63fa",
           "#FFA15A",
           "#19d3f3",
           "#FF6692",
           "#B6E880",
           "#FF97FF",
           "#FECB52"
          ],
          "font": {
           "color": "#2a3f5f"
          },
          "geo": {
           "bgcolor": "white",
           "lakecolor": "white",
           "landcolor": "#E5ECF6",
           "showlakes": true,
           "showland": true,
           "subunitcolor": "white"
          },
          "hoverlabel": {
           "align": "left"
          },
          "hovermode": "closest",
          "mapbox": {
           "style": "light"
          },
          "paper_bgcolor": "white",
          "plot_bgcolor": "#E5ECF6",
          "polar": {
           "angularaxis": {
            "gridcolor": "white",
            "linecolor": "white",
            "ticks": ""
           },
           "bgcolor": "#E5ECF6",
           "radialaxis": {
            "gridcolor": "white",
            "linecolor": "white",
            "ticks": ""
           }
          },
          "scene": {
           "xaxis": {
            "backgroundcolor": "#E5ECF6",
            "gridcolor": "white",
            "gridwidth": 2,
            "linecolor": "white",
            "showbackground": true,
            "ticks": "",
            "zerolinecolor": "white"
           },
           "yaxis": {
            "backgroundcolor": "#E5ECF6",
            "gridcolor": "white",
            "gridwidth": 2,
            "linecolor": "white",
            "showbackground": true,
            "ticks": "",
            "zerolinecolor": "white"
           },
           "zaxis": {
            "backgroundcolor": "#E5ECF6",
            "gridcolor": "white",
            "gridwidth": 2,
            "linecolor": "white",
            "showbackground": true,
            "ticks": "",
            "zerolinecolor": "white"
           }
          },
          "shapedefaults": {
           "line": {
            "color": "#2a3f5f"
           }
          },
          "ternary": {
           "aaxis": {
            "gridcolor": "white",
            "linecolor": "white",
            "ticks": ""
           },
           "baxis": {
            "gridcolor": "white",
            "linecolor": "white",
            "ticks": ""
           },
           "bgcolor": "#E5ECF6",
           "caxis": {
            "gridcolor": "white",
            "linecolor": "white",
            "ticks": ""
           }
          },
          "title": {
           "x": 0.05
          },
          "xaxis": {
           "automargin": true,
           "gridcolor": "white",
           "linecolor": "white",
           "ticks": "",
           "title": {
            "standoff": 15
           },
           "zerolinecolor": "white",
           "zerolinewidth": 2
          },
          "yaxis": {
           "automargin": true,
           "gridcolor": "white",
           "linecolor": "white",
           "ticks": "",
           "title": {
            "standoff": 15
           },
           "zerolinecolor": "white",
           "zerolinewidth": 2
          }
         }
        },
        "title": {
         "font": {
          "size": 25
         },
         "text": "Цель совершает маневр с постоянной перегрузкой 5g",
         "x": 0.43
        }
       }
      },
      "text/html": [
       "<div>                            <div id=\"73e6f00b-9b59-4a47-9453-efa6c8e4c859\" class=\"plotly-graph-div\" style=\"height:525px; width:100%;\"></div>            <script type=\"text/javascript\">                require([\"plotly\"], function(Plotly) {                    window.PLOTLYENV=window.PLOTLYENV || {};                                    if (document.getElementById(\"73e6f00b-9b59-4a47-9453-efa6c8e4c859\")) {                    Plotly.newPlot(                        \"73e6f00b-9b59-4a47-9453-efa6c8e4c859\",                        [{\"line\":{\"width\":3},\"mode\":\"lines\",\"name\":\"eps = -40.0 [grad]\",\"r\":[54500.0,54500.0,41000.0,41000.0,41000.0,41000.0,42500.0,42500.0,42500.0,42500.0,44000.0,42500.0,42500.0,42500.0,44000.0,45500.0,45500.0,47000.0,48500.0,50000.0,51500.0,51500.0,53000.0,54500.0,54500.0,54500.0,56000.0,56000.0,56000.0,56000.0,56000.0,56000.0,56000.0,54500.0,54500.0,54500.0,54500.0],\"theta\":[0.0,10.0,20.0,30.0,40.0,50.0,60.0,70.0,80.0,90.0,100.0,110.0,120.0,130.0,140.0,150.0,160.0,170.0,180.0,190.0,200.0,210.0,220.0,230.0,240.0,250.0,260.0,270.0,280.0,290.0,300.0,310.0,320.0,330.0,340.0,350.0,0.0],\"type\":\"scatterpolar\"},{\"line\":{\"width\":3},\"mode\":\"lines\",\"name\":\"eps = -20.0 [grad]\",\"r\":[44000.0,44000.0,44000.0,44000.0,44000.0,44000.0,44000.0,44000.0,44000.0,44000.0,45500.0,44000.0,44000.0,45500.0,45500.0,47000.0,47000.0,48500.0,50000.0,51500.0,53000.0,54500.0,54500.0,56000.0,56000.0,56000.0,57500.0,57500.0,57500.0,57500.0,57500.0,57500.0,57500.0,57500.0,57500.0,57500.0,44000.0],\"theta\":[0.0,10.0,20.0,30.0,40.0,50.0,60.0,70.0,80.0,90.0,100.0,110.0,120.0,130.0,140.0,150.0,160.0,170.0,180.0,190.0,200.0,210.0,220.0,230.0,240.0,250.0,260.0,270.0,280.0,290.0,300.0,310.0,320.0,330.0,340.0,350.0,0.0],\"type\":\"scatterpolar\"},{\"line\":{\"width\":3},\"mode\":\"lines\",\"name\":\"eps = 0.0 [grad]\",\"r\":[44000.0,44000.0,44000.0,44000.0,44000.0,44000.0,44000.0,44000.0,45500.0,45500.0,44000.0,44000.0,45500.0,45500.0,47000.0,47000.0,48500.0,50000.0,51500.0,51500.0,53000.0,54500.0,56000.0,56000.0,57500.0,57500.0,57500.0,57500.0,57500.0,57500.0,57500.0,57500.0,57500.0,57500.0,57500.0,57500.0,44000.0],\"theta\":[0.0,10.0,20.0,30.0,40.0,50.0,60.0,70.0,80.0,90.0,100.0,110.0,120.0,130.0,140.0,150.0,160.0,170.0,180.0,190.0,200.0,210.0,220.0,230.0,240.0,250.0,260.0,270.0,280.0,290.0,300.0,310.0,320.0,330.0,340.0,350.0,0.0],\"type\":\"scatterpolar\"},{\"line\":{\"width\":3},\"mode\":\"lines\",\"name\":\"eps = 20.0 [grad]\",\"r\":[57500.0,44000.0,44000.0,44000.0,44000.0,44000.0,44000.0,44000.0,45500.0,45500.0,44000.0,44000.0,45500.0,45500.0,47000.0,47000.0,48500.0,50000.0,50000.0,51500.0,53000.0,54500.0,54500.0,56000.0,56000.0,57500.0,57500.0,57500.0,57500.0,57500.0,57500.0,57500.0,57500.0,57500.0,57500.0,57500.0,57500.0],\"theta\":[0.0,10.0,20.0,30.0,40.0,50.0,60.0,70.0,80.0,90.0,100.0,110.0,120.0,130.0,140.0,150.0,160.0,170.0,180.0,190.0,200.0,210.0,220.0,230.0,240.0,250.0,260.0,270.0,280.0,290.0,300.0,310.0,320.0,330.0,340.0,350.0,0.0],\"type\":\"scatterpolar\"},{\"line\":{\"width\":3},\"mode\":\"lines\",\"name\":\"eps = 40.0 [grad]\",\"r\":[42500.0,42500.0,42500.0,42500.0,42500.0,44000.0,44000.0,44000.0,44000.0,44000.0,42500.0,42500.0,44000.0,44000.0,45500.0,45500.0,47000.0,48500.0,50000.0,50000.0,51500.0,53000.0,54500.0,54500.0,54500.0,56000.0,56000.0,56000.0,56000.0,56000.0,56000.0,56000.0,56000.0,56000.0,56000.0,42500.0,42500.0],\"theta\":[0.0,10.0,20.0,30.0,40.0,50.0,60.0,70.0,80.0,90.0,100.0,110.0,120.0,130.0,140.0,150.0,160.0,170.0,180.0,190.0,200.0,210.0,220.0,230.0,240.0,250.0,260.0,270.0,280.0,290.0,300.0,310.0,320.0,330.0,340.0,350.0,0.0],\"type\":\"scatterpolar\"},{\"line\":{\"color\":\"rgb(0, 100, 250)\",\"width\":4},\"mode\":\"lines\",\"name\":\"target\",\"r\":[1.83697019872103e-12,2604.722665003957,5130.30214988503,7500.000000000002,9641.814145298089,11490.666646784668,12990.381056766577,14095.389311788627,14772.116295183121,15000.0],\"showlegend\":false,\"theta\":[180.0,190.0,200.0,210.0,220.0,230.0,240.0,250.0,260.0,270.0],\"type\":\"scatterpolar\"},{\"line\":{\"color\":\"rgb(0, 100, 250)\",\"width\":4},\"mode\":\"lines\",\"name\":\"target\",\"r\":[15000.0,16988.550760335587],\"showlegend\":false,\"theta\":[270.0,298.0],\"type\":\"scatterpolar\"},{\"line\":{\"color\":\"rgb(0, 100, 250)\",\"width\":4},\"mode\":\"lines\",\"name\":\"target\",\"r\":[16988.550760335587,16500.0],\"showlegend\":false,\"theta\":[298.0,270.0],\"type\":\"scatterpolar\"},{\"line\":{\"color\":\"rgb(0, 100, 250)\",\"width\":4},\"mode\":\"lines\",\"name\":\"target\",\"r\":[16988.550760335587,13500.0],\"showlegend\":false,\"theta\":[298.0,270.0],\"type\":\"scatterpolar\"}],                        {\"font\":{\"color\":\"rgb(0, 0, 0)\",\"family\":\"Courier New\",\"size\":15},\"paper_bgcolor\":\"rgb(255, 255, 255)\",\"polar\":{\"radialaxis\":{\"angle\":0,\"range\":[0,90000.0],\"visible\":true},\"sector\":[0,360]},\"showlegend\":true,\"title\":{\"font\":{\"size\":25},\"text\":\"\\u0426\\u0435\\u043b\\u044c \\u0441\\u043e\\u0432\\u0435\\u0440\\u0448\\u0430\\u0435\\u0442 \\u043c\\u0430\\u043d\\u0435\\u0432\\u0440 \\u0441 \\u043f\\u043e\\u0441\\u0442\\u043e\\u044f\\u043d\\u043d\\u043e\\u0439 \\u043f\\u0435\\u0440\\u0435\\u0433\\u0440\\u0443\\u0437\\u043a\\u043e\\u0439 5g\",\"x\":0.43},\"template\":{\"data\":{\"bar\":[{\"error_x\":{\"color\":\"#2a3f5f\"},\"error_y\":{\"color\":\"#2a3f5f\"},\"marker\":{\"line\":{\"color\":\"#E5ECF6\",\"width\":0.5},\"pattern\":{\"fillmode\":\"overlay\",\"size\":10,\"solidity\":0.2}},\"type\":\"bar\"}],\"barpolar\":[{\"marker\":{\"line\":{\"color\":\"#E5ECF6\",\"width\":0.5},\"pattern\":{\"fillmode\":\"overlay\",\"size\":10,\"solidity\":0.2}},\"type\":\"barpolar\"}],\"carpet\":[{\"aaxis\":{\"endlinecolor\":\"#2a3f5f\",\"gridcolor\":\"white\",\"linecolor\":\"white\",\"minorgridcolor\":\"white\",\"startlinecolor\":\"#2a3f5f\"},\"baxis\":{\"endlinecolor\":\"#2a3f5f\",\"gridcolor\":\"white\",\"linecolor\":\"white\",\"minorgridcolor\":\"white\",\"startlinecolor\":\"#2a3f5f\"},\"type\":\"carpet\"}],\"choropleth\":[{\"colorbar\":{\"outlinewidth\":0,\"ticks\":\"\"},\"type\":\"choropleth\"}],\"contour\":[{\"colorbar\":{\"outlinewidth\":0,\"ticks\":\"\"},\"colorscale\":[[0.0,\"#0d0887\"],[0.1111111111111111,\"#46039f\"],[0.2222222222222222,\"#7201a8\"],[0.3333333333333333,\"#9c179e\"],[0.4444444444444444,\"#bd3786\"],[0.5555555555555556,\"#d8576b\"],[0.6666666666666666,\"#ed7953\"],[0.7777777777777778,\"#fb9f3a\"],[0.8888888888888888,\"#fdca26\"],[1.0,\"#f0f921\"]],\"type\":\"contour\"}],\"contourcarpet\":[{\"colorbar\":{\"outlinewidth\":0,\"ticks\":\"\"},\"type\":\"contourcarpet\"}],\"heatmap\":[{\"colorbar\":{\"outlinewidth\":0,\"ticks\":\"\"},\"colorscale\":[[0.0,\"#0d0887\"],[0.1111111111111111,\"#46039f\"],[0.2222222222222222,\"#7201a8\"],[0.3333333333333333,\"#9c179e\"],[0.4444444444444444,\"#bd3786\"],[0.5555555555555556,\"#d8576b\"],[0.6666666666666666,\"#ed7953\"],[0.7777777777777778,\"#fb9f3a\"],[0.8888888888888888,\"#fdca26\"],[1.0,\"#f0f921\"]],\"type\":\"heatmap\"}],\"heatmapgl\":[{\"colorbar\":{\"outlinewidth\":0,\"ticks\":\"\"},\"colorscale\":[[0.0,\"#0d0887\"],[0.1111111111111111,\"#46039f\"],[0.2222222222222222,\"#7201a8\"],[0.3333333333333333,\"#9c179e\"],[0.4444444444444444,\"#bd3786\"],[0.5555555555555556,\"#d8576b\"],[0.6666666666666666,\"#ed7953\"],[0.7777777777777778,\"#fb9f3a\"],[0.8888888888888888,\"#fdca26\"],[1.0,\"#f0f921\"]],\"type\":\"heatmapgl\"}],\"histogram\":[{\"marker\":{\"pattern\":{\"fillmode\":\"overlay\",\"size\":10,\"solidity\":0.2}},\"type\":\"histogram\"}],\"histogram2d\":[{\"colorbar\":{\"outlinewidth\":0,\"ticks\":\"\"},\"colorscale\":[[0.0,\"#0d0887\"],[0.1111111111111111,\"#46039f\"],[0.2222222222222222,\"#7201a8\"],[0.3333333333333333,\"#9c179e\"],[0.4444444444444444,\"#bd3786\"],[0.5555555555555556,\"#d8576b\"],[0.6666666666666666,\"#ed7953\"],[0.7777777777777778,\"#fb9f3a\"],[0.8888888888888888,\"#fdca26\"],[1.0,\"#f0f921\"]],\"type\":\"histogram2d\"}],\"histogram2dcontour\":[{\"colorbar\":{\"outlinewidth\":0,\"ticks\":\"\"},\"colorscale\":[[0.0,\"#0d0887\"],[0.1111111111111111,\"#46039f\"],[0.2222222222222222,\"#7201a8\"],[0.3333333333333333,\"#9c179e\"],[0.4444444444444444,\"#bd3786\"],[0.5555555555555556,\"#d8576b\"],[0.6666666666666666,\"#ed7953\"],[0.7777777777777778,\"#fb9f3a\"],[0.8888888888888888,\"#fdca26\"],[1.0,\"#f0f921\"]],\"type\":\"histogram2dcontour\"}],\"mesh3d\":[{\"colorbar\":{\"outlinewidth\":0,\"ticks\":\"\"},\"type\":\"mesh3d\"}],\"parcoords\":[{\"line\":{\"colorbar\":{\"outlinewidth\":0,\"ticks\":\"\"}},\"type\":\"parcoords\"}],\"pie\":[{\"automargin\":true,\"type\":\"pie\"}],\"scatter\":[{\"marker\":{\"colorbar\":{\"outlinewidth\":0,\"ticks\":\"\"}},\"type\":\"scatter\"}],\"scatter3d\":[{\"line\":{\"colorbar\":{\"outlinewidth\":0,\"ticks\":\"\"}},\"marker\":{\"colorbar\":{\"outlinewidth\":0,\"ticks\":\"\"}},\"type\":\"scatter3d\"}],\"scattercarpet\":[{\"marker\":{\"colorbar\":{\"outlinewidth\":0,\"ticks\":\"\"}},\"type\":\"scattercarpet\"}],\"scattergeo\":[{\"marker\":{\"colorbar\":{\"outlinewidth\":0,\"ticks\":\"\"}},\"type\":\"scattergeo\"}],\"scattergl\":[{\"marker\":{\"colorbar\":{\"outlinewidth\":0,\"ticks\":\"\"}},\"type\":\"scattergl\"}],\"scattermapbox\":[{\"marker\":{\"colorbar\":{\"outlinewidth\":0,\"ticks\":\"\"}},\"type\":\"scattermapbox\"}],\"scatterpolar\":[{\"marker\":{\"colorbar\":{\"outlinewidth\":0,\"ticks\":\"\"}},\"type\":\"scatterpolar\"}],\"scatterpolargl\":[{\"marker\":{\"colorbar\":{\"outlinewidth\":0,\"ticks\":\"\"}},\"type\":\"scatterpolargl\"}],\"scatterternary\":[{\"marker\":{\"colorbar\":{\"outlinewidth\":0,\"ticks\":\"\"}},\"type\":\"scatterternary\"}],\"surface\":[{\"colorbar\":{\"outlinewidth\":0,\"ticks\":\"\"},\"colorscale\":[[0.0,\"#0d0887\"],[0.1111111111111111,\"#46039f\"],[0.2222222222222222,\"#7201a8\"],[0.3333333333333333,\"#9c179e\"],[0.4444444444444444,\"#bd3786\"],[0.5555555555555556,\"#d8576b\"],[0.6666666666666666,\"#ed7953\"],[0.7777777777777778,\"#fb9f3a\"],[0.8888888888888888,\"#fdca26\"],[1.0,\"#f0f921\"]],\"type\":\"surface\"}],\"table\":[{\"cells\":{\"fill\":{\"color\":\"#EBF0F8\"},\"line\":{\"color\":\"white\"}},\"header\":{\"fill\":{\"color\":\"#C8D4E3\"},\"line\":{\"color\":\"white\"}},\"type\":\"table\"}]},\"layout\":{\"annotationdefaults\":{\"arrowcolor\":\"#2a3f5f\",\"arrowhead\":0,\"arrowwidth\":1},\"autotypenumbers\":\"strict\",\"coloraxis\":{\"colorbar\":{\"outlinewidth\":0,\"ticks\":\"\"}},\"colorscale\":{\"diverging\":[[0,\"#8e0152\"],[0.1,\"#c51b7d\"],[0.2,\"#de77ae\"],[0.3,\"#f1b6da\"],[0.4,\"#fde0ef\"],[0.5,\"#f7f7f7\"],[0.6,\"#e6f5d0\"],[0.7,\"#b8e186\"],[0.8,\"#7fbc41\"],[0.9,\"#4d9221\"],[1,\"#276419\"]],\"sequential\":[[0.0,\"#0d0887\"],[0.1111111111111111,\"#46039f\"],[0.2222222222222222,\"#7201a8\"],[0.3333333333333333,\"#9c179e\"],[0.4444444444444444,\"#bd3786\"],[0.5555555555555556,\"#d8576b\"],[0.6666666666666666,\"#ed7953\"],[0.7777777777777778,\"#fb9f3a\"],[0.8888888888888888,\"#fdca26\"],[1.0,\"#f0f921\"]],\"sequentialminus\":[[0.0,\"#0d0887\"],[0.1111111111111111,\"#46039f\"],[0.2222222222222222,\"#7201a8\"],[0.3333333333333333,\"#9c179e\"],[0.4444444444444444,\"#bd3786\"],[0.5555555555555556,\"#d8576b\"],[0.6666666666666666,\"#ed7953\"],[0.7777777777777778,\"#fb9f3a\"],[0.8888888888888888,\"#fdca26\"],[1.0,\"#f0f921\"]]},\"colorway\":[\"#636efa\",\"#EF553B\",\"#00cc96\",\"#ab63fa\",\"#FFA15A\",\"#19d3f3\",\"#FF6692\",\"#B6E880\",\"#FF97FF\",\"#FECB52\"],\"font\":{\"color\":\"#2a3f5f\"},\"geo\":{\"bgcolor\":\"white\",\"lakecolor\":\"white\",\"landcolor\":\"#E5ECF6\",\"showlakes\":true,\"showland\":true,\"subunitcolor\":\"white\"},\"hoverlabel\":{\"align\":\"left\"},\"hovermode\":\"closest\",\"mapbox\":{\"style\":\"light\"},\"paper_bgcolor\":\"white\",\"plot_bgcolor\":\"#E5ECF6\",\"polar\":{\"angularaxis\":{\"gridcolor\":\"white\",\"linecolor\":\"white\",\"ticks\":\"\"},\"bgcolor\":\"#E5ECF6\",\"radialaxis\":{\"gridcolor\":\"white\",\"linecolor\":\"white\",\"ticks\":\"\"}},\"scene\":{\"xaxis\":{\"backgroundcolor\":\"#E5ECF6\",\"gridcolor\":\"white\",\"gridwidth\":2,\"linecolor\":\"white\",\"showbackground\":true,\"ticks\":\"\",\"zerolinecolor\":\"white\"},\"yaxis\":{\"backgroundcolor\":\"#E5ECF6\",\"gridcolor\":\"white\",\"gridwidth\":2,\"linecolor\":\"white\",\"showbackground\":true,\"ticks\":\"\",\"zerolinecolor\":\"white\"},\"zaxis\":{\"backgroundcolor\":\"#E5ECF6\",\"gridcolor\":\"white\",\"gridwidth\":2,\"linecolor\":\"white\",\"showbackground\":true,\"ticks\":\"\",\"zerolinecolor\":\"white\"}},\"shapedefaults\":{\"line\":{\"color\":\"#2a3f5f\"}},\"ternary\":{\"aaxis\":{\"gridcolor\":\"white\",\"linecolor\":\"white\",\"ticks\":\"\"},\"baxis\":{\"gridcolor\":\"white\",\"linecolor\":\"white\",\"ticks\":\"\"},\"bgcolor\":\"#E5ECF6\",\"caxis\":{\"gridcolor\":\"white\",\"linecolor\":\"white\",\"ticks\":\"\"}},\"title\":{\"x\":0.05},\"xaxis\":{\"automargin\":true,\"gridcolor\":\"white\",\"linecolor\":\"white\",\"ticks\":\"\",\"title\":{\"standoff\":15},\"zerolinecolor\":\"white\",\"zerolinewidth\":2},\"yaxis\":{\"automargin\":true,\"gridcolor\":\"white\",\"linecolor\":\"white\",\"ticks\":\"\",\"title\":{\"standoff\":15},\"zerolinecolor\":\"white\",\"zerolinewidth\":2}}}},                        {\"responsive\": true}                    ).then(function(){\n",
       "                            \n",
       "var gd = document.getElementById('73e6f00b-9b59-4a47-9453-efa6c8e4c859');\n",
       "var x = new MutationObserver(function (mutations, observer) {{\n",
       "        var display = window.getComputedStyle(gd).display;\n",
       "        if (!display || display === 'none') {{\n",
       "            console.log([gd, 'removed!']);\n",
       "            Plotly.purge(gd);\n",
       "            observer.disconnect();\n",
       "        }}\n",
       "}});\n",
       "\n",
       "// Listen for the removal of the full notebook cells\n",
       "var notebookContainer = gd.closest('#notebook-container');\n",
       "if (notebookContainer) {{\n",
       "    x.observe(notebookContainer, {childList: true});\n",
       "}}\n",
       "\n",
       "// Listen for the clearing of the current output cell\n",
       "var outputEl = gd.closest('.output');\n",
       "if (outputEl) {{\n",
       "    x.observe(outputEl, {childList: true});\n",
       "}}\n",
       "\n",
       "                        })                };                });            </script>        </div>"
      ]
     },
     "metadata": {},
     "output_type": "display_data"
    }
   ],
   "source": [
    "plot_data = [\n",
    "    go.Scatterpolar(\n",
    "        name=f'eps = {eps} [grad]',\n",
    "        r = edge.r,\n",
    "        theta =  edge.theta,\n",
    "#         fill='toself',\n",
    "        mode='lines',\n",
    "        line=dict(width=3)\n",
    "    ) for eps, edge in edges.items()\n",
    "]\n",
    "\n",
    "theta = np.linspace(180, 270, 10)\n",
    "r = abs(np.sin(np.radians(theta))) * 15e3\n",
    "\n",
    "plot_data.extend(\n",
    "    [\n",
    "        go.Scatterpolar(\n",
    "            name=f'target',\n",
    "            r=r,\n",
    "            theta=theta,\n",
    "            mode='lines',\n",
    "            showlegend=False,\n",
    "            line=dict(width=4, color='rgb(0, 100, 250)')\n",
    "        ),\n",
    "        go.Scatterpolar(\n",
    "            name=f'target',\n",
    "            r = [r[-1], r[-1] / np.cos(np.radians(28))],\n",
    "            theta =  [theta[-1], theta[-1] + 28],\n",
    "            mode='lines',\n",
    "            showlegend=False,\n",
    "            line=dict(width=4, color='rgb(0, 100, 250)')\n",
    "        ),\n",
    "        go.Scatterpolar(\n",
    "            name=f'target',\n",
    "            r = [r[-1] / np.cos(np.radians(28)), r[-1] * 1.1],\n",
    "            theta =  [theta[-1] + 28, theta[-1]],\n",
    "            mode='lines',\n",
    "            showlegend=False,\n",
    "            line=dict(width=4, color='rgb(0, 100, 250)')\n",
    "        ),\n",
    "        go.Scatterpolar(\n",
    "            name=f'target',\n",
    "            r = [r[-1] / np.cos(np.radians(28)), r[-1] * 0.9],\n",
    "            theta =  [theta[-1] + 28, theta[-1]],\n",
    "            mode='lines',\n",
    "            showlegend=False,\n",
    "            line=dict(width=4, color='rgb(0, 100, 250)')\n",
    "        )\n",
    "    ]\n",
    ")\n",
    "\n",
    "\n",
    "layout = go.Layout(\n",
    "    title=dict(\n",
    "        text='Цель совершает маневр с постоянной перегрузкой 5g', \n",
    "        x=0.43,\n",
    "        font=dict(size=25)\n",
    "    ),\n",
    "    font=dict(\n",
    "        size=15,\n",
    "        family='Courier New',\n",
    "        color='rgb(0, 0, 0)'\n",
    "    ),\n",
    "    polar=dict(\n",
    "        radialaxis=dict(\n",
    "            visible=True,\n",
    "            range=[0, 90e3],\n",
    "            angle=0\n",
    "        ),\n",
    "        sector = [0, 360],\n",
    "        angularaxis=dict(\n",
    "        )\n",
    "    ),\n",
    "    paper_bgcolor='rgb(255, 255, 255)',\n",
    "#     polar_bgcolor='rgb(250, 250, 250)',\n",
    "    showlegend=True\n",
    ")\n",
    "\n",
    "\n",
    "fig = go.Figure(\n",
    "    data = plot_data,\n",
    "    layout=layout\n",
    ")\n",
    "\n",
    "fig.show()"
   ]
  },
  {
   "cell_type": "markdown",
   "id": "31759db2",
   "metadata": {},
   "source": [
    "### 3. Цель управляется SAC моделью"
   ]
  },
  {
   "cell_type": "code",
   "execution_count": 18,
   "id": "e7143d99",
   "metadata": {},
   "outputs": [
    {
     "data": {
      "text/plain": [
       "44080"
      ]
     },
     "execution_count": 18,
     "metadata": {},
     "output_type": "execute_result"
    }
   ],
   "source": [
    "29 * 19  * 4 * 20"
   ]
  },
  {
   "cell_type": "code",
   "execution_count": 2,
   "id": "a49e9a27",
   "metadata": {},
   "outputs": [],
   "source": [
    "distances = np.linspace(10e3, 80e3, 29)\n",
    "view_angles = np.linspace(0, 180, 19)\n",
    "errors = np.linspace(-40, 40, 5)\n",
    "combinations = []\n",
    "data = {}\n",
    "\n",
    "for d in distances:\n",
    "    for q in view_angles:\n",
    "        combinations.append((d, q))"
   ]
  },
  {
   "cell_type": "code",
   "execution_count": 26,
   "id": "a9bf08be",
   "metadata": {
    "scrolled": true
   },
   "outputs": [
    {
     "name": "stderr",
     "output_type": "stream",
     "text": [
      "[Parallel(n_jobs=-3)]: Using backend LokyBackend with 6 concurrent workers.\n",
      "[Parallel(n_jobs=-3)]: Done  38 tasks      | elapsed:  1.6min\n",
      "[Parallel(n_jobs=-3)]: Done 188 tasks      | elapsed: 13.2min\n",
      "[Parallel(n_jobs=-3)]: Done 438 tasks      | elapsed: 50.6min\n",
      "[Parallel(n_jobs=-3)]: Done 551 out of 551 | elapsed: 71.3min finished\n",
      "[Parallel(n_jobs=-3)]: Using backend LokyBackend with 6 concurrent workers.\n",
      "[Parallel(n_jobs=-3)]: Done  38 tasks      | elapsed:  1.4min\n",
      "[Parallel(n_jobs=-3)]: Done 188 tasks      | elapsed: 12.0min\n",
      "[Parallel(n_jobs=-3)]: Done 438 tasks      | elapsed: 48.3min\n",
      "[Parallel(n_jobs=-3)]: Done 551 out of 551 | elapsed: 69.3min finished\n",
      "[Parallel(n_jobs=-3)]: Using backend LokyBackend with 6 concurrent workers.\n",
      "[Parallel(n_jobs=-3)]: Done  38 tasks      | elapsed:  1.3min\n",
      "[Parallel(n_jobs=-3)]: Done 188 tasks      | elapsed: 12.1min\n",
      "[Parallel(n_jobs=-3)]: Done 438 tasks      | elapsed: 48.5min\n",
      "[Parallel(n_jobs=-3)]: Done 551 out of 551 | elapsed: 69.4min finished\n",
      "[Parallel(n_jobs=-3)]: Using backend LokyBackend with 6 concurrent workers.\n",
      "[Parallel(n_jobs=-3)]: Done  58 tasks      | elapsed:   13.9s\n",
      "[Parallel(n_jobs=-3)]: Done 212 tasks      | elapsed: 12.1min\n",
      "[Parallel(n_jobs=-3)]: Done 462 tasks      | elapsed: 51.0min\n",
      "[Parallel(n_jobs=-3)]: Done 551 out of 551 | elapsed: 67.8min finished\n"
     ]
    }
   ],
   "source": [
    "FULL_PATH = os.path.join(PATH_TO_SAVE, 'attack_zone_sac_t.pkl')\n",
    "if os.path.exists(FULL_PATH):\n",
    "    data = load(FULL_PATH)\n",
    "else:\n",
    "    for eps in errors:\n",
    "        res = Parallel(n_jobs=-3, verbose=1)(delayed(single_simulation)(combination[0], combination[1], eps, target_action='model') for combination in combinations)\n",
    "        res = np.array(res)\n",
    "        data[eps] = pd.DataFrame(\n",
    "            {\n",
    "                'd': res[:, 0], \n",
    "                'q': res[:, 1],\n",
    "                'prop': res[:, 2]\n",
    "            }\n",
    "        )\n",
    "    dump(data, FULL_PATH)\n",
    "    del data"
   ]
  },
  {
   "cell_type": "code",
   "execution_count": 9,
   "id": "0083feb8",
   "metadata": {
    "scrolled": true
   },
   "outputs": [],
   "source": [
    "FULL_PATH = os.path.join(PATH_TO_SAVE, 'attack_zone_sac_t.pkl')\n",
    "data = load(FULL_PATH)"
   ]
  },
  {
   "cell_type": "code",
   "execution_count": 11,
   "id": "0dfe6563",
   "metadata": {},
   "outputs": [
    {
     "data": {
      "image/png": "[encoded data removed]",
      "text/plain": [
       "<Figure size 3750x750 with 10 Axes>"
      ]
     },
     "metadata": {
      "needs_background": "light"
     },
     "output_type": "display_data"
    }
   ],
   "source": [
    "rc = {\"font.family\": \"serif\",\n",
    "      \"mathtext.fontset\": \"stix\"}\n",
    "plt.rcParams.update(rc)\n",
    "plt.rcParams[\"font.serif\"] = [\"Georgia\"] + plt.rcParams[\"font.serif\"]\n",
    "matplotlib.rcParams.update({'font.size': 13})\n",
    "\n",
    "azimuths = np.linspace(0, 180, 20)\n",
    "zeniths = np.linspace(10e3, 80e3, 10)\n",
    "\n",
    "r, theta = np.meshgrid(zeniths, np.radians(azimuths))\n",
    "\n",
    "errors = np.linspace(-40, 40, 5)\n",
    "\n",
    "fig, ax = plt.subplots(figsize=(25, 5), dpi=150, nrows=1, ncols=5, subplot_kw=dict(projection='polar'))\n",
    "plt.tight_layout(w_pad=0, h_pad=0, pad=0)\n",
    "fig.suptitle('target navigation: SAC agent\\nmissile guidance method: PN', y=1.2, fontsize=16)\n",
    "\n",
    "for i, eps in enumerate(errors):\n",
    "    \n",
    "    if eps != -40:\n",
    "        distances = np.linspace(10e3, 80e3, 29)\n",
    "        view_angles = np.linspace(0, 180, 19)\n",
    "    else:\n",
    "        distances = np.linspace(10e3, 80e3, 51)\n",
    "        view_angles = np.linspace(0, 180, 37)\n",
    "    \n",
    "    prop = interpolate.interp2d(\n",
    "        view_angles,\n",
    "        distances,\n",
    "        np.reshape(data[eps].prop.to_numpy(), (len(distances), len(view_angles))), \n",
    "        kind='linear'\n",
    "    )\n",
    "    \n",
    "    values = prop(azimuths, zeniths).T\n",
    "\n",
    "    cf = ax[i].contourf(theta, r, values, cmap=cm.Blues, vmax=1.)\n",
    "    cb = plt.colorbar(\n",
    "        cf, \n",
    "        shrink=0.78, \n",
    "        aspect=20, \n",
    "        orientation='horizontal', \n",
    "        anchor=(0.5, 2.5), \n",
    "        ticks=[0, 0.525, 1.05], \n",
    "        label='Hit propability [%]', \n",
    "        ax=ax[i]\n",
    "    )\n",
    "    cb.ax.set_xticklabels(['0', '0.5', '1']) \n",
    "\n",
    "    ax[i].plot([np.pi, np.pi], [0, 10e3], color='blue', lw=4)\n",
    "    ax[i].plot([np.pi, np.pi - np.radians(10)], [10e3, 5e3], color='blue', lw=4)\n",
    "\n",
    "    ax[i].set_thetamin(0)\n",
    "    ax[i].set_thetamax(180)\n",
    "    ax[i].tick_params(axis='x', pad=8)\n",
    "\n",
    "    ax[i].set_rmin(0)\n",
    "    ax[i].set_rmax(90e3)\n",
    "\n",
    "    ax[i].set_rticks([10e3, 30e3, 50e3, 70e3, 90e3])\n",
    "    ax[i].set_yticklabels(['10k', '30k', '50k', '70k', '90k'])\n",
    "\n",
    "    ax[i].set_title(f'eps = {eps} [grad]', fontsize=14)\n",
    "\n",
    "plt.grid(c='lightgray')\n",
    "plt.show()\n",
    "fig.savefig(os.path.join(BASE_PATH, 'files', 'plots', 'attack_zones', 'sac_pn.png'), dpi=200, bbox_inches='tight')"
   ]
  },
  {
   "cell_type": "markdown",
   "id": "a80fdcc4",
   "metadata": {},
   "source": [
    "### 4. Полноценная дуэль SAC моделей"
   ]
  },
  {
   "cell_type": "code",
   "execution_count": 12,
   "id": "f3e10ead",
   "metadata": {},
   "outputs": [],
   "source": [
    "distances = np.linspace(10e3, 80e3, 29)\n",
    "view_angles = np.linspace(0, 180, 19)\n",
    "errors = np.linspace(-40, 40, 5)\n",
    "combinations = []\n",
    "data = {}\n",
    "\n",
    "for d in distances:\n",
    "    for q in view_angles:\n",
    "        combinations.append((d, q))"
   ]
  },
  {
   "cell_type": "code",
   "execution_count": 13,
   "id": "9aaad0b1",
   "metadata": {
    "scrolled": true
   },
   "outputs": [
    {
     "name": "stderr",
     "output_type": "stream",
     "text": [
      "[Parallel(n_jobs=-3)]: Using backend LokyBackend with 6 concurrent workers.\n",
      "[Parallel(n_jobs=-3)]: Done  38 tasks      | elapsed:   49.0s\n",
      "[Parallel(n_jobs=-3)]: Done 188 tasks      | elapsed: 11.7min\n",
      "[Parallel(n_jobs=-3)]: Done 438 tasks      | elapsed: 69.5min\n",
      "[Parallel(n_jobs=-3)]: Done 551 out of 551 | elapsed: 107.8min finished\n"
     ]
    }
   ],
   "source": [
    "FULL_PATH = os.path.join(PATH_TO_SAVE, 'attack_zone_sac_t_sac_m.pkl')\n",
    "if os.path.exists(FULL_PATH):\n",
    "    data = load(FULL_PATH)\n",
    "else:\n",
    "    for eps in errors:\n",
    "        res = Parallel(n_jobs=-3, verbose=1)(delayed(single_simulation)(combination[0], combination[1], eps, target_action='model') for combination in combinations)\n",
    "        res = np.array(res)\n",
    "        data[eps] = pd.DataFrame(\n",
    "            {\n",
    "                'd': res[:, 0], \n",
    "                'q': res[:, 1],\n",
    "                'prop': res[:, 2]\n",
    "            }\n",
    "        )\n",
    "    dump(data, FULL_PATH)\n",
    "    del data"
   ]
  },
  {
   "cell_type": "code",
   "execution_count": 13,
   "id": "8f89253c",
   "metadata": {
    "scrolled": false
   },
   "outputs": [],
   "source": [
    "FULL_PATH = os.path.join(PATH_TO_SAVE, 'attack_zone_sac_t_sac_m.pkl')\n",
    "data = load(FULL_PATH)"
   ]
  },
  {
   "cell_type": "code",
   "execution_count": 14,
   "id": "d68aad84",
   "metadata": {
    "scrolled": false
   },
   "outputs": [
    {
     "data": {
      "image/png": "[encoded data removed]",
      "text/plain": [
       "<Figure size 3750x750 with 10 Axes>"
      ]
     },
     "metadata": {
      "needs_background": "light"
     },
     "output_type": "display_data"
    }
   ],
   "source": [
    "rc = {\"font.family\": \"serif\",\n",
    "      \"mathtext.fontset\": \"stix\"}\n",
    "plt.rcParams.update(rc)\n",
    "plt.rcParams[\"font.serif\"] = [\"Georgia\"] + plt.rcParams[\"font.serif\"]\n",
    "matplotlib.rcParams.update({'font.size': 13})\n",
    "\n",
    "azimuths = np.linspace(0, 180, 20)\n",
    "zeniths = np.linspace(10e3, 80e3, 10)\n",
    "\n",
    "r, theta = np.meshgrid(zeniths, np.radians(azimuths))\n",
    "\n",
    "distances = np.linspace(10e3, 80e3, 29)\n",
    "view_angles = np.linspace(0, 180, 19)\n",
    "errors = np.linspace(-40, 40, 5)\n",
    "\n",
    "fig, ax = plt.subplots(\n",
    "    figsize=(25, 5), \n",
    "    dpi=150, \n",
    "    nrows=1, \n",
    "    ncols=5, \n",
    "    subplot_kw=dict(projection='polar')\n",
    ")\n",
    "plt.tight_layout(w_pad=0, h_pad=0, pad=0)\n",
    "fig.suptitle('target navigation: SAC agent\\nmissile guidance method: SAC agent', y=1.2, fontsize=16)\n",
    "\n",
    "for i, eps in enumerate(errors):\n",
    "    \n",
    "    prop = interpolate.interp2d(\n",
    "        view_angles,\n",
    "        distances,\n",
    "        np.reshape(data[eps].prop.to_numpy(), (len(distances), len(view_angles))), \n",
    "        kind='linear'\n",
    "    )\n",
    "    \n",
    "    values = prop(azimuths, zeniths).T\n",
    "\n",
    "    cf = ax[i].contourf(theta, r, values, cmap=cm.Reds, vmax=1.)\n",
    "    cb = plt.colorbar(\n",
    "        cf, \n",
    "        shrink=0.78, \n",
    "        aspect=20, \n",
    "        orientation='horizontal', \n",
    "        anchor=(0.5, 2.5), \n",
    "        ticks=[0, 0.525, 1.05], \n",
    "        label='Hit propability [%]', \n",
    "        ax=ax[i]\n",
    "    )\n",
    "    cb.ax.set_xticklabels(['0', '0.5', '1']) \n",
    "\n",
    "    ax[i].plot([np.pi, np.pi], [0, 10e3], color='blue', lw=4)\n",
    "    ax[i].plot([np.pi, np.pi - np.radians(10)], [10e3, 5e3], color='blue', lw=4)\n",
    "\n",
    "    ax[i].set_thetamin(0)\n",
    "    ax[i].set_thetamax(180)\n",
    "    ax[i].tick_params(axis='x', pad=8)\n",
    "\n",
    "    ax[i].set_rmin(0)\n",
    "    ax[i].set_rmax(90e3)\n",
    "\n",
    "    ax[i].set_rticks([10e3, 30e3, 50e3, 70e3, 90e3])\n",
    "    ax[i].set_yticklabels(['10k', '30k', '50k', '70k', '90k'])\n",
    "\n",
    "    ax[i].set_title(f'eps = {eps} [grad]', fontsize=14)\n",
    "\n",
    "plt.grid(c='lightgray')\n",
    "plt.show()\n",
    "fig.savefig(os.path.join(BASE_PATH, 'files', 'plots', 'attack_zones', 'sac_sac.png'), dpi=200, bbox_inches='tight')"
   ]
  },
  {
   "cell_type": "code",
   "execution_count": null,
   "id": "7cb54c99",
   "metadata": {},
   "outputs": [],
   "source": []
  }
 ],
 "metadata": {
  "kernelspec": {
   "display_name": "Python 3 (ipykernel)",
   "language": "python",
   "name": "python3"
  },
  "language_info": {
   "codemirror_mode": {
    "name": "ipython",
    "version": 3
   },
   "file_extension": ".py",
   "mimetype": "text/x-python",
   "name": "python",
   "nbconvert_exporter": "python",
   "pygments_lexer": "ipython3",
   "version": "3.9.12"
  }
 },
 "nbformat": 4,
 "nbformat_minor": 5
}
